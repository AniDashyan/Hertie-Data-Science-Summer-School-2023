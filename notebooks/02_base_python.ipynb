{
  "cells": [
    {
      "cell_type": "markdown",
      "metadata": {
        "id": "Vs2muOXxNl14"
      },
      "source": [
        "# Crash Course"
      ]
    },
    {
      "cell_type": "markdown",
      "metadata": {
        "id": "b4oZ_jE5Nl1-"
      },
      "source": [
        "## \"Base\"\n",
        "\n",
        "- Like many languages, Python is enhanced by a great number of \"libraries\".\n",
        "- Libraries extend the functionality of a language, e.g. for data analysis."
      ]
    },
    {
      "cell_type": "markdown",
      "metadata": {
        "id": "fBM0Va0sNl1_"
      },
      "source": [
        "## How much base Python do I need to know?\n",
        "\n",
        "- Varies with application\n",
        "- This course covers minimum needed for data analysis workflow\n",
        "- Deep learning or app development requires more\n",
        "- Improving knowledge of core functionality helps you write elegant code."
      ]
    },
    {
      "cell_type": "markdown",
      "metadata": {
        "id": "dZMoiPgrNl2A"
      },
      "source": [
        "## Course Outline\n",
        "\n",
        "1. Variables\n",
        "2. Data Types\n",
        "3. Data Structures\n",
        "4. Control Flow\n",
        "5. Functions"
      ]
    },
    {
      "cell_type": "markdown",
      "metadata": {
        "id": "dwdNuGv9Nl2A"
      },
      "source": [
        "# Values, Variables and Types"
      ]
    },
    {
      "cell_type": "markdown",
      "metadata": {
        "id": "yhBOHsOFNl2B"
      },
      "source": [
        "## Workspace\n",
        "\n",
        "_A mental image if this is your first time programming_\n",
        "\n",
        "- When we start the Python \"session\", imagine we create an empty box.\n",
        "- We use commands, written into the cells of the notebook, to interact with this box.\n",
        "    - We can create objects that persist inside the box.\n",
        "    - We can modify objects inside the box.\n",
        "- We use the `print()` function to display these objects in the output."
      ]
    },
    {
      "cell_type": "markdown",
      "metadata": {
        "id": "DKLf9TldNl2B"
      },
      "source": [
        "## First Command: \"Hello World!\"\n",
        "\n",
        "Run the following command:"
      ]
    },
    {
      "cell_type": "code",
      "execution_count": 1,
      "metadata": {
        "output-location": "column-fragment",
        "colab": {
          "base_uri": "https://localhost:8080/"
        },
        "id": "zap8UHczNl2C",
        "outputId": "37c2f8e7-32d9-4387-982e-aa4422199a67"
      },
      "outputs": [
        {
          "output_type": "stream",
          "name": "stdout",
          "text": [
            "Hello World!\n"
          ]
        }
      ],
      "source": [
        "print(\"Hello World!\")"
      ]
    },
    {
      "cell_type": "markdown",
      "metadata": {
        "id": "9FMda95eNl2E"
      },
      "source": [
        "## Variable Assignment\n",
        "\n",
        "- Variables are names that point to particular objects in the box.\n",
        "- These objects can be values, functions, etc.\n",
        "- We assign variables with the `=` operator."
      ]
    },
    {
      "cell_type": "code",
      "execution_count": null,
      "metadata": {
        "output-location": "column-fragment",
        "id": "OVNlhkJtNl2E"
      },
      "outputs": [],
      "source": [
        "x = 1\n",
        "y = 2\n",
        "print(x)\n",
        "print(y)"
      ]
    },
    {
      "cell_type": "markdown",
      "metadata": {
        "id": "67wnitn4Nl2F"
      },
      "source": [
        "## Aside: Variable Assignment Rules\n",
        "\n",
        "There are some rules for variable assignment:\n",
        "\n",
        "- Variable names cannot contain spaces\n"
      ]
    },
    {
      "cell_type": "code",
      "execution_count": null,
      "metadata": {
        "output-location": "default",
        "id": "VDiv3sh-Nl2F"
      },
      "outputs": [],
      "source": [
        "a variable = \"this will give an error\""
      ]
    },
    {
      "cell_type": "markdown",
      "metadata": {
        "id": "guYj1SZlNl2G"
      },
      "source": [
        "- The first letter of the variable cannot be a number or symbol"
      ]
    },
    {
      "cell_type": "code",
      "execution_count": null,
      "metadata": {
        "output-location": "default",
        "id": "gDzqhj_yNl2G"
      },
      "outputs": [],
      "source": [
        "1st_variable = \"this will also give an error\""
      ]
    },
    {
      "cell_type": "markdown",
      "metadata": {
        "id": "OjZMDajqNl2G"
      },
      "source": [
        "Both of these return `SyntaxError` because the interpreter cannot understand these commands."
      ]
    },
    {
      "cell_type": "markdown",
      "metadata": {
        "id": "lDe7uSSpNl2H"
      },
      "source": [
        "# Data Types\n",
        "\n",
        "Here are four data types in base Python:\n",
        "\n",
        "- Integer `int`: whole numbers\n",
        "- Boolean `bool`: true/false values\n",
        "- Float `float`: rational numbers\n",
        "- String `str`: character sequences"
      ]
    },
    {
      "cell_type": "markdown",
      "metadata": {
        "id": "BAgQQuMqNl2H"
      },
      "source": [
        "## Integers\n",
        "\n",
        "Integers (`int`) are whole numbers, positive or negative.\n",
        "\n",
        "- Created by writing a number without a `.`"
      ]
    },
    {
      "cell_type": "code",
      "execution_count": null,
      "metadata": {
        "id": "edm2Pj8YNl2H"
      },
      "outputs": [],
      "source": [
        "42\n",
        "0\n",
        "-15343"
      ]
    },
    {
      "cell_type": "markdown",
      "metadata": {
        "id": "MewRRctWNl2I"
      },
      "source": [
        "## Integer Operations\n",
        "\n",
        "- As seen, integers are assigned with the `=` operator."
      ]
    },
    {
      "cell_type": "code",
      "execution_count": null,
      "metadata": {
        "output-location": "default",
        "id": "tjalklQ7Nl2I"
      },
      "outputs": [],
      "source": [
        "a = 5\n",
        "b = 13"
      ]
    },
    {
      "cell_type": "markdown",
      "metadata": {
        "id": "lXEcBtq5Nl2I"
      },
      "source": [
        "- Arithmetic operations are as expected: `+`, `-`, `*`, `/`"
      ]
    },
    {
      "cell_type": "code",
      "execution_count": null,
      "metadata": {
        "output-location": "column-fragment",
        "id": "c1rUyrHhNl2J"
      },
      "outputs": [],
      "source": [
        "print(a + b)\n",
        "print(a - b)\n",
        "print(a * b)"
      ]
    },
    {
      "cell_type": "markdown",
      "metadata": {
        "id": "qyd8XZ4SNl2J"
      },
      "source": [
        "- `==` tests equivalence."
      ]
    },
    {
      "cell_type": "code",
      "execution_count": null,
      "metadata": {
        "output-location": "column-fragment",
        "id": "5NGHrBJwNl2J"
      },
      "outputs": [],
      "source": [
        "print(a == b)"
      ]
    },
    {
      "cell_type": "markdown",
      "metadata": {
        "id": "Qad31YIRNl2J"
      },
      "source": [
        "## Booleans\n",
        "\n",
        "- Booleans are True/False values.\n",
        "  - You saw them on the previous slide!\n",
        "- There are two Booleans: `True` and `False`."
      ]
    },
    {
      "cell_type": "markdown",
      "metadata": {
        "id": "s6PoHIfzNl2K"
      },
      "source": [
        "## Boolean Operators\n",
        "\n",
        "- `and`: logical _conjunction_"
      ]
    },
    {
      "cell_type": "code",
      "execution_count": null,
      "metadata": {
        "output-location": "column-fragment",
        "id": "VUYe2nJZNl2K"
      },
      "outputs": [],
      "source": [
        "print(True and True)\n",
        "print(True and False)\n",
        "print(False and True)\n",
        "print(False and False)"
      ]
    },
    {
      "cell_type": "markdown",
      "metadata": {
        "id": "Oaw4D-WdNl2K"
      },
      "source": [
        "- `or`: logical _disjunction_\n"
      ]
    },
    {
      "cell_type": "code",
      "execution_count": null,
      "metadata": {
        "output-location": "column-fragment",
        "id": "lVS5XpduNl2K"
      },
      "outputs": [],
      "source": [
        "print(True or True)\n",
        "print(True or False)\n",
        "print(False or True)\n",
        "print(False or False)"
      ]
    },
    {
      "cell_type": "markdown",
      "metadata": {
        "id": "mruasWVNNl2L"
      },
      "source": [
        "## Aside: Bools and 0, 1\n",
        "\n",
        "Booleans behave like the integers 0 and 1.\n"
      ]
    },
    {
      "cell_type": "code",
      "execution_count": null,
      "metadata": {
        "output-location": "column",
        "id": "iZiQLxeBNl2L"
      },
      "outputs": [],
      "source": [
        "True + True"
      ]
    },
    {
      "cell_type": "code",
      "execution_count": null,
      "metadata": {
        "output-location": "column",
        "id": "SUh3hmwnNl2M"
      },
      "outputs": [],
      "source": [
        "True * False"
      ]
    },
    {
      "cell_type": "code",
      "execution_count": null,
      "metadata": {
        "output-location": "column-fragment",
        "id": "Ep-z6ODQNl2M"
      },
      "outputs": [],
      "source": [
        "# What do you think will happen?\n",
        "False / False"
      ]
    },
    {
      "cell_type": "markdown",
      "metadata": {
        "id": "fqwYR--PNl2M"
      },
      "source": [
        "## Floats\n",
        "\n",
        "- Floats are, technically, the representation of real numbers ($\\mathbb{R}$) in base 2.\n",
        "- For our purposes, all non-whole numbers are represented by floats.\n",
        "- Floats can be constructed using the `.` in a number:\n",
        "\n"
      ]
    },
    {
      "cell_type": "code",
      "execution_count": null,
      "metadata": {
        "id": "kukhCJ7aNl2M"
      },
      "outputs": [],
      "source": [
        "x = 1.0\n",
        "y = 3.4"
      ]
    },
    {
      "cell_type": "markdown",
      "metadata": {
        "id": "qQAEhzT4Nl2M"
      },
      "source": [
        "## Integer Division\n",
        "\n",
        "Python also automatically converts the output of integer division to a float:\n",
        "\n"
      ]
    },
    {
      "cell_type": "code",
      "execution_count": null,
      "metadata": {
        "output-location": "column-fragment",
        "id": "iwZuJv3ANl2N"
      },
      "outputs": [],
      "source": [
        "print(1 / 3)\n",
        "print(3)\n",
        "print(3 / 1)"
      ]
    },
    {
      "cell_type": "markdown",
      "metadata": {
        "id": "rrbLGr-0Nl2N"
      },
      "source": [
        "## Warning!!\n",
        "\n",
        "Floats can behave unpredictably.\n",
        "\n",
        "Note the following examples:\n"
      ]
    },
    {
      "cell_type": "code",
      "execution_count": null,
      "metadata": {
        "output-location": "column-fragment",
        "id": "XT3FXZ1JNl2N"
      },
      "outputs": [],
      "source": [
        "10 * 0.1 * 3 == 3"
      ]
    },
    {
      "cell_type": "code",
      "execution_count": null,
      "metadata": {
        "output-location": "column-fragment",
        "id": "v6fxtDB7Nl2e"
      },
      "outputs": [],
      "source": [
        "0.1 * 3 * 10 == 3"
      ]
    },
    {
      "cell_type": "code",
      "execution_count": null,
      "metadata": {
        "output-location": "column-fragment",
        "id": "8U4r1WQkNl2e"
      },
      "outputs": [],
      "source": [
        "0.1 * 3 == 0.3"
      ]
    },
    {
      "cell_type": "code",
      "execution_count": null,
      "metadata": {
        "output-location": "column-fragment",
        "id": "kRKb8erPNl2e"
      },
      "outputs": [],
      "source": [
        "0.1 * 3"
      ]
    },
    {
      "cell_type": "markdown",
      "metadata": {
        "id": "mmDFNSrjNl2e"
      },
      "source": [
        "See: [0.30000000000000004.com](https://0.30000000000000004.com/)"
      ]
    },
    {
      "cell_type": "markdown",
      "metadata": {
        "id": "ygTiKaoONl2f"
      },
      "source": [
        "## Strings\n",
        "\n",
        "Strings (`str`) are a _sequence of characters_."
      ]
    },
    {
      "cell_type": "markdown",
      "metadata": {
        "id": "D4igY8dyNl2f"
      },
      "source": [
        "## Creation\n",
        "\n",
        "- Strings are created by writing a sequence of letters between _single **or** double_ quotes."
      ]
    },
    {
      "cell_type": "code",
      "execution_count": null,
      "metadata": {
        "id": "1IcT5KDvNl2f"
      },
      "outputs": [],
      "source": [
        "first_word = \"Hello\"\n",
        "second_word = 'World'\n",
        "first_punct = \"!\""
      ]
    },
    {
      "cell_type": "markdown",
      "metadata": {
        "id": "X4Un5pUwNl2f"
      },
      "source": [
        "## Equivalence\n",
        "\n",
        "- We can test equivalence using the `==` operator.\n",
        "\n"
      ]
    },
    {
      "cell_type": "code",
      "execution_count": null,
      "metadata": {
        "output-location": "column-fragment",
        "id": "L-63PF1-Nl2f"
      },
      "outputs": [],
      "source": [
        "print(first_word == first_word)\n",
        "print(first_word == second_word)"
      ]
    },
    {
      "cell_type": "markdown",
      "metadata": {
        "id": "8zEW8vJ2Nl2g"
      },
      "source": [
        "## Concatenation\n",
        "\n",
        "Combine _strings_ with the `+` operator:\n",
        "\n",
        ""
      ]
    },
    {
      "cell_type": "code",
      "execution_count": null,
      "metadata": {
        "id": "7kyxey3ONl2g"
      },
      "outputs": [],
      "source": [
        "print(first_word + second_word + first_punct)"
      ]
    },
    {
      "cell_type": "markdown",
      "metadata": {
        "id": "PXskG2KwNl2g"
      },
      "source": [
        "You can use variables and values together:"
      ]
    },
    {
      "cell_type": "code",
      "execution_count": null,
      "metadata": {
        "editable": true,
        "tags": [],
        "id": "rMbVjmSLNl2g"
      },
      "outputs": [],
      "source": [
        "print(first_word + \" \" + second_word + first_punct)"
      ]
    },
    {
      "cell_type": "markdown",
      "metadata": {
        "editable": true,
        "tags": [],
        "id": "cWhT-P5-Nl2g"
      },
      "source": [
        "## Indexing\n",
        "\n",
        "- Strings are a _sequence_.\n",
        "- Strings can be indexed by using the `[]` operator.\n",
        "- _Note that python counts from zero!_\n",
        "\n"
      ]
    },
    {
      "cell_type": "code",
      "execution_count": 3,
      "metadata": {
        "editable": true,
        "tags": [],
        "colab": {
          "base_uri": "https://localhost:8080/"
        },
        "id": "KTCy7F8HNl2h",
        "outputId": "7e394f75-be06-4588-8319-a3977a4a2ffe"
      },
      "outputs": [
        {
          "output_type": "stream",
          "name": "stdout",
          "text": [
            "bird is the word\n",
            "b is the first letter of the word\n",
            "i is the second letter of the word\n"
          ]
        }
      ],
      "source": [
        "the_word = \"bird\"\n",
        "\n",
        "print(the_word + \" is the word\")\n",
        "print(the_word[0] + \" is the first letter of the word\")\n",
        "print(the_word[1] + \" is the second letter of the word\")"
      ]
    },
    {
      "cell_type": "markdown",
      "metadata": {
        "editable": true,
        "tags": [],
        "id": "8qIGCcFZNl2h"
      },
      "source": [
        "## Slices\n",
        "\n",
        "- Use the `:` to return a range of values.\n",
        "- The range `[m:n]` returns from the (m+1)th letter to the nth letter.\n"
      ]
    },
    {
      "cell_type": "code",
      "execution_count": 4,
      "metadata": {
        "editable": true,
        "tags": [],
        "colab": {
          "base_uri": "https://localhost:8080/"
        },
        "id": "wTrU-kKhNl2h",
        "outputId": "de51b974-2457-42c2-b70e-bf5e61f319f4"
      },
      "outputs": [
        {
          "output_type": "stream",
          "name": "stdout",
          "text": [
            "bi is the first two letters of the word\n",
            "ir is the second and third letter of the word\n"
          ]
        }
      ],
      "source": [
        "print(the_word[0:2] + \" is the first two letters of the word\")\n",
        "print(the_word[1:3] + \" is the second and third letter of the word\")"
      ]
    },
    {
      "cell_type": "markdown",
      "metadata": {
        "editable": true,
        "tags": [],
        "id": "_s74e0MKNl2h"
      },
      "source": [
        "## Slices"
      ]
    },
    {
      "cell_type": "code",
      "execution_count": null,
      "metadata": {
        "editable": true,
        "output-location": "column-fragment",
        "tags": [],
        "id": "OccMzcQWNl2i"
      },
      "outputs": [],
      "source": [
        "# What does this return?\n",
        "the_word[0:3] + the_word[0]"
      ]
    },
    {
      "cell_type": "markdown",
      "metadata": {
        "editable": true,
        "tags": [],
        "id": "oSmHyVLFNl2i"
      },
      "source": [
        "## Negative Indexing\n",
        "\n",
        "- `[-1]` returns the last element of a sequence; in this case, the last character in a word.\n"
      ]
    },
    {
      "cell_type": "code",
      "execution_count": null,
      "metadata": {
        "editable": true,
        "output-location": "column-fragment",
        "tags": [],
        "id": "vUYm0g0-Nl2j"
      },
      "outputs": [],
      "source": [
        "print(the_word[-1])"
      ]
    },
    {
      "cell_type": "markdown",
      "metadata": {
        "editable": true,
        "tags": [],
        "id": "fMk4u9MINl2k"
      },
      "source": [
        "- We can use this to get the $n$ last values of a sequence:\n"
      ]
    },
    {
      "cell_type": "code",
      "execution_count": null,
      "metadata": {
        "editable": true,
        "output-location": "column-fragment",
        "tags": [],
        "id": "P5UxkruVNl2k"
      },
      "outputs": [],
      "source": [
        "print(the_word[-3:])"
      ]
    },
    {
      "cell_type": "markdown",
      "metadata": {
        "editable": true,
        "tags": [],
        "id": "jm1_fYv2Nl2k"
      },
      "source": [
        "## Checking and Coercing Types\n",
        "\n",
        "- `type()` returns the type of an object.\n",
        "\n"
      ]
    },
    {
      "cell_type": "code",
      "execution_count": null,
      "metadata": {
        "editable": true,
        "output-location": "column-fragment",
        "tags": [],
        "id": "XlbUoSsPNl2l"
      },
      "outputs": [],
      "source": [
        "type(15)"
      ]
    },
    {
      "cell_type": "markdown",
      "metadata": {
        "editable": true,
        "tags": [],
        "id": "s_8L3LWsNl2l"
      },
      "source": [
        "- The type of an object can be coerced by calling the a different type on the object.\n"
      ]
    },
    {
      "cell_type": "code",
      "execution_count": null,
      "metadata": {
        "editable": true,
        "output-location": "column-fragment",
        "tags": [],
        "id": "3AAubXOdNl2l"
      },
      "outputs": [],
      "source": [
        "type(float(15))"
      ]
    },
    {
      "cell_type": "markdown",
      "metadata": {
        "editable": true,
        "tags": [],
        "id": "lXZvPA4-Nl2l"
      },
      "source": [
        "## Checking and Coercing Types\n",
        "\n",
        "- Sometimes coercion is not possible:\n"
      ]
    },
    {
      "cell_type": "code",
      "execution_count": null,
      "metadata": {
        "editable": true,
        "output-location": "column-fragment",
        "tags": [],
        "id": "hutZ0OO7Nl2m"
      },
      "outputs": [],
      "source": [
        "int('meow')"
      ]
    },
    {
      "cell_type": "markdown",
      "metadata": {
        "editable": true,
        "tags": [],
        "id": "doDOGa3cNl2m"
      },
      "source": [
        "- And sometimes it is unpredictable"
      ]
    },
    {
      "cell_type": "code",
      "execution_count": null,
      "metadata": {
        "editable": true,
        "output-location": "column-fragment",
        "tags": [],
        "id": "WOG3XCWFNl2m"
      },
      "outputs": [],
      "source": [
        "print(bool('meow'))\n",
        "print(int(-0.99))\n",
        "print(str(False)==False)"
      ]
    },
    {
      "cell_type": "markdown",
      "metadata": {
        "editable": true,
        "tags": [],
        "id": "FOcXStdtNl2m"
      },
      "source": [
        "# Data Structures\n",
        "\n",
        "- **Data types** concern the representation of individual data points, or observations.\n",
        "- **Data structures** concern the relations between observations.\n",
        "    - Are the data points members of the same set?\n",
        "    - Are the data points members of the same sequence?\n",
        "    - Are the data points different features of single empirical unit?"
      ]
    },
    {
      "cell_type": "markdown",
      "metadata": {
        "editable": true,
        "tags": [],
        "id": "pUO5dUIHNl2m"
      },
      "source": [
        "## Two Python Data Structures\n",
        "\n",
        "- Lists (`list`): ordered array\n",
        "- Dictionaries (`dict`): key-value mapping"
      ]
    },
    {
      "cell_type": "markdown",
      "metadata": {
        "editable": true,
        "tags": [],
        "id": "KCwvq2A0Nl2n"
      },
      "source": [
        "## Lists\n",
        "\n",
        "Lists are a type of data container in base Python. Lists are:\n",
        "\n",
        "- 1-dimensional\n",
        "- Ordered and indexed\n",
        "- Mutable\n",
        "- Able to contain any (type of) object\\n\\n\n",
        "\n",
        "To create a list, write a sequence of values separated by commas between square brackets:"
      ]
    },
    {
      "cell_type": "code",
      "execution_count": 5,
      "metadata": {
        "editable": true,
        "tags": [],
        "id": "fzHdmamSNl2n"
      },
      "outputs": [],
      "source": [
        "my_list = [1, 2, 3]  # only integers\n",
        "my_list = [1, 2.0, '3']  # integer, float and string"
      ]
    },
    {
      "cell_type": "markdown",
      "metadata": {
        "editable": true,
        "tags": [],
        "id": "sdiyQDLnNl2n"
      },
      "source": [
        "## Indexing and Slicing Lists\n",
        "\n",
        "- Lists can be indexed in the same way as strings, using the `list[m:n]` notation.\n",
        "- `list[0]` returns the first value of the list\n"
      ]
    },
    {
      "cell_type": "code",
      "execution_count": null,
      "metadata": {
        "editable": true,
        "output-location": "column-fragment",
        "tags": [],
        "id": "P0i3cK1vNl2n"
      },
      "outputs": [],
      "source": [
        "my_list = [1, 2.0, '3']\n",
        "print(my_list[0])"
      ]
    },
    {
      "cell_type": "markdown",
      "metadata": {
        "editable": true,
        "tags": [],
        "id": "fuF0KG6jNl2o"
      },
      "source": [
        "- `list[1:3]` returns a list containing the second and third value of the list\n"
      ]
    },
    {
      "cell_type": "code",
      "execution_count": null,
      "metadata": {
        "editable": true,
        "output-location": "column-fragment",
        "tags": [],
        "id": "Y7xL9tFANl2o"
      },
      "outputs": [],
      "source": [
        "print(my_list[1:3])"
      ]
    },
    {
      "cell_type": "markdown",
      "metadata": {
        "editable": true,
        "tags": [],
        "id": "sq7Nrz4ANl2o"
      },
      "source": [
        "## Growing Lists\n",
        "\n",
        "- Use `len()` to get the length of a `list`\n"
      ]
    },
    {
      "cell_type": "code",
      "execution_count": null,
      "metadata": {
        "editable": true,
        "output-location": "column-fragment",
        "tags": [],
        "id": "neUlA7B-Nl2o"
      },
      "outputs": [],
      "source": [
        "len(my_list)"
      ]
    },
    {
      "cell_type": "markdown",
      "metadata": {
        "editable": true,
        "tags": [],
        "id": "0qiX34sjNl2o"
      },
      "source": [
        "- Use `.append()` to add an element at the end\n"
      ]
    },
    {
      "cell_type": "code",
      "execution_count": null,
      "metadata": {
        "editable": true,
        "output-location": "column-fragment",
        "tags": [],
        "id": "t2fRF98uNl2p"
      },
      "outputs": [],
      "source": [
        "my_list.append(4)\n",
        "print(my_list)"
      ]
    },
    {
      "cell_type": "markdown",
      "metadata": {
        "editable": true,
        "tags": [],
        "id": "SwUihOTkNl2p"
      },
      "source": [
        "- Adding lists concatenates them:\n"
      ]
    },
    {
      "cell_type": "code",
      "execution_count": null,
      "metadata": {
        "editable": true,
        "output-location": "column-fragment",
        "tags": [],
        "id": "0wR736cTNl2p"
      },
      "outputs": [],
      "source": [
        "my_list + ['fivesixseven8']"
      ]
    },
    {
      "cell_type": "markdown",
      "metadata": {
        "editable": true,
        "tags": [],
        "id": "1grQgqaoNl2p"
      },
      "source": [
        "## Removing Items\n",
        "\n",
        "- Use `.pop()` to remove the final element\n",
        "  - NB: `.pop()` also returns the final element\n"
      ]
    },
    {
      "cell_type": "code",
      "execution_count": null,
      "metadata": {
        "editable": true,
        "output-location": "column-fragment",
        "tags": [],
        "id": "RY79COhLNl2p"
      },
      "outputs": [],
      "source": [
        "last_element = my_list.pop()\n",
        "print(last_element)\n",
        "print(my_list)"
      ]
    },
    {
      "cell_type": "markdown",
      "metadata": {
        "editable": true,
        "tags": [],
        "id": "W0CRA02WNl2q"
      },
      "source": [
        "## Changing Values in Lists\\n\\n\n",
        "We can assign or reassign values using `=` and indexers:\n"
      ]
    },
    {
      "cell_type": "code",
      "execution_count": null,
      "metadata": {
        "editable": true,
        "output-location": "column-fragment",
        "tags": [],
        "id": "tiDBwfJgNl2q"
      },
      "outputs": [],
      "source": [
        "x = ['a', 't', 'e']\n",
        "print(x)"
      ]
    },
    {
      "cell_type": "code",
      "execution_count": null,
      "metadata": {
        "editable": true,
        "output-location": "column-fragment",
        "tags": [],
        "id": "UPaXkpDDNl2q"
      },
      "outputs": [],
      "source": [
        "x[0] = 'A'\n",
        "x[1] = 'T'\n",
        "print(x)"
      ]
    },
    {
      "cell_type": "markdown",
      "metadata": {
        "editable": true,
        "tags": [],
        "id": "lE_C-WV4Nl2t"
      },
      "source": [
        "\n",
        "\n",
        "We can also replace slices:"
      ]
    },
    {
      "cell_type": "code",
      "execution_count": null,
      "metadata": {
        "editable": true,
        "output-location": "column-fragment",
        "tags": [],
        "id": "_6rRO0geNl2u"
      },
      "outputs": [],
      "source": [
        "x[0:2] = ['a', 't']\n",
        "print(x)"
      ]
    },
    {
      "cell_type": "markdown",
      "metadata": {
        "editable": true,
        "tags": [],
        "id": "MX_3lOZyNl2w"
      },
      "source": [
        "## Dictionaries\n",
        "\n",
        "- Dictionaries are an unordered mapping of _keys_ to _values_.\n",
        "- Created by writing a list of `key:value` pairs separated by commas between `{}`.\n",
        "\n"
      ]
    },
    {
      "cell_type": "code",
      "execution_count": 7,
      "metadata": {
        "editable": true,
        "tags": [],
        "id": "qtA6UBksNl2w"
      },
      "outputs": [],
      "source": [
        "favourite_icecream = {\n",
        "    \"Musashi\": \"chocolate\",\n",
        "    \"Maria\": \"dulce de leche\",\n",
        "    \"Ani\": \"Vanilla\"\n",
        "}"
      ]
    },
    {
      "cell_type": "markdown",
      "metadata": {
        "editable": true,
        "tags": [],
        "id": "9NZ0rjFCNl2x"
      },
      "source": [
        "## Retrieving Values\n",
        "\n",
        "- Values are accessed with `dict_name[key]`\n",
        "\n",
        ""
      ]
    },
    {
      "cell_type": "code",
      "execution_count": 8,
      "metadata": {
        "editable": true,
        "tags": [],
        "colab": {
          "base_uri": "https://localhost:8080/"
        },
        "id": "sOnjr7s6Nl2x",
        "outputId": "b8fd644e-cc8f-41ff-ada8-91b96af895b2"
      },
      "outputs": [
        {
          "output_type": "stream",
          "name": "stdout",
          "text": [
            "chocolate\n",
            "dulce de leche\n"
          ]
        }
      ],
      "source": [
        "print(favourite_icecream['Musashi'])\n",
        "print(favourite_icecream['Maria'])"
      ]
    },
    {
      "cell_type": "markdown",
      "metadata": {
        "editable": true,
        "tags": [],
        "id": "J5DRQm0NNl2x"
      },
      "source": [
        "## Modifying Dictionaries\n",
        "\n",
        "- New key-value pairs can be added or modified with `=`\n",
        "\n"
      ]
    },
    {
      "cell_type": "code",
      "execution_count": 9,
      "metadata": {
        "editable": true,
        "tags": [],
        "colab": {
          "base_uri": "https://localhost:8080/"
        },
        "id": "1J84OdjNNl2y",
        "outputId": "05b53f2b-bf30-4741-fbd5-3b774bdcccde"
      },
      "outputs": [
        {
          "output_type": "stream",
          "name": "stdout",
          "text": [
            "green tea\n",
            "pistachio\n"
          ]
        }
      ],
      "source": [
        "favourite_icecream['Chris'] = 'pistachio'\n",
        "favourite_icecream['Musashi'] = 'green tea'\n",
        "\n",
        "print(favourite_icecream['Musashi'])\n",
        "print(favourite_icecream['Chris'])"
      ]
    },
    {
      "cell_type": "markdown",
      "metadata": {
        "editable": true,
        "tags": [],
        "id": "e6RbSo45Nl2y"
      },
      "source": [
        "## Accessing All Keys or Values\n",
        "\n",
        "To view all of the keys or values in a dictionary, you can use the following _methods_:\n",
        "\n"
      ]
    },
    {
      "cell_type": "code",
      "execution_count": 10,
      "metadata": {
        "editable": true,
        "output-location": "column-fragment",
        "tags": [],
        "colab": {
          "base_uri": "https://localhost:8080/"
        },
        "id": "F7NtcFEWNl2y",
        "outputId": "afbeaa5d-7311-409c-fa1d-e2fd3466cf73"
      },
      "outputs": [
        {
          "output_type": "stream",
          "name": "stdout",
          "text": [
            "dict_keys(['Musashi', 'Maria', 'Ani', 'Chris'])\n"
          ]
        }
      ],
      "source": [
        "print(favourite_icecream.keys())"
      ]
    },
    {
      "cell_type": "code",
      "execution_count": 13,
      "metadata": {
        "editable": true,
        "output-location": "column-fragment",
        "tags": [],
        "colab": {
          "base_uri": "https://localhost:8080/"
        },
        "id": "f4kjefLpNl2y",
        "outputId": "b77402de-ba79-4346-bdef-856937f8fbca"
      },
      "outputs": [
        {
          "output_type": "stream",
          "name": "stdout",
          "text": [
            "dict_values(['green tea', 'dulce de leche', 'Vanilla', 'pistachio'])\n"
          ]
        }
      ],
      "source": [
        "print(favourite_icecream.values())"
      ]
    },
    {
      "cell_type": "code",
      "execution_count": 12,
      "metadata": {
        "editable": true,
        "output-location": "column-fragment",
        "tags": [],
        "colab": {
          "base_uri": "https://localhost:8080/"
        },
        "id": "pIV_S0pXNl2y",
        "outputId": "caed9950-dcac-48e9-931c-2f1d510a658e"
      },
      "outputs": [
        {
          "output_type": "stream",
          "name": "stdout",
          "text": [
            "dict_items([('Musashi', 'green tea'), ('Maria', 'dulce de leche'), ('Ani', 'Vanilla'), ('Chris', 'pistachio')])\n"
          ]
        }
      ],
      "source": [
        "print(favourite_icecream.items())"
      ]
    },
    {
      "cell_type": "markdown",
      "source": [],
      "metadata": {
        "id": "9JlITLe7Orgq"
      }
    },
    {
      "cell_type": "markdown",
      "metadata": {
        "editable": true,
        "tags": [],
        "id": "vB5WGkKJNl2z"
      },
      "source": [
        "# Control Flow\n",
        "\n",
        "- Control flow structures specify whether and in what order to run blocks of our code.\n",
        "- We focus on two:\n",
        "    - Conditional execution\n",
        "    - Iteration (For loops)"
      ]
    },
    {
      "cell_type": "markdown",
      "metadata": {
        "editable": true,
        "tags": [],
        "id": "TLF6kWQNNl2z"
      },
      "source": [
        "## Conditional Execution\n",
        "\n",
        "- In Python, to execute code conditionally, we use the following syntax:"
      ]
    },
    {
      "cell_type": "code",
      "execution_count": 14,
      "metadata": {
        "editable": true,
        "output-location": "default",
        "tags": [],
        "colab": {
          "base_uri": "https://localhost:8080/",
          "height": 192
        },
        "id": "lsFklPaLNl2z",
        "outputId": "ed6bee2b-77a4-4a98-feb6-79a7e2ca48f4"
      },
      "outputs": [
        {
          "output_type": "error",
          "ename": "NameError",
          "evalue": "ignored",
          "traceback": [
            "\u001b[0;31m---------------------------------------------------------------------------\u001b[0m",
            "\u001b[0;31mNameError\u001b[0m                                 Traceback (most recent call last)",
            "\u001b[0;32m<ipython-input-14-cb697e9fd616>\u001b[0m in \u001b[0;36m<cell line: 1>\u001b[0;34m()\u001b[0m\n\u001b[0;32m----> 1\u001b[0;31m \u001b[0;32mif\u001b[0m \u001b[0mCONDITION\u001b[0m\u001b[0;34m:\u001b[0m\u001b[0;34m\u001b[0m\u001b[0;34m\u001b[0m\u001b[0m\n\u001b[0m\u001b[1;32m      2\u001b[0m     \u001b[0mRUN_COMMAND\u001b[0m\u001b[0;34m\u001b[0m\u001b[0;34m\u001b[0m\u001b[0m\n",
            "\u001b[0;31mNameError\u001b[0m: name 'CONDITION' is not defined"
          ]
        }
      ],
      "source": [
        "if CONDITION:\n",
        "    RUN_COMMAND"
      ]
    },
    {
      "cell_type": "markdown",
      "metadata": {
        "editable": true,
        "tags": [],
        "id": "GSVZ-oRrNl20"
      },
      "source": [
        "- If `CONDITION` is `True`, then `RUN_COMMAND` is executed."
      ]
    },
    {
      "cell_type": "markdown",
      "metadata": {
        "editable": true,
        "tags": [],
        "id": "2C_ddntLNl23"
      },
      "source": [
        "## Absolute Value\n",
        "\n",
        "- Suppose we want the absolute value of a number.\n",
        "- \"if number is negative, then multiply by -1\"\n",
        "- We can write it as follows:"
      ]
    },
    {
      "cell_type": "code",
      "execution_count": 15,
      "metadata": {
        "editable": true,
        "tags": [],
        "colab": {
          "base_uri": "https://localhost:8080/"
        },
        "id": "OnnYvxpJNl24",
        "outputId": "21771515-7019-49f9-cace-316842ed9879"
      },
      "outputs": [
        {
          "output_type": "stream",
          "name": "stdout",
          "text": [
            "Absolute value is 2\n"
          ]
        }
      ],
      "source": [
        "number = -2\n",
        "\n",
        "if number < 0:\n",
        "    number = number * -1\n",
        "\n",
        "print(\"Absolute value is\", number)"
      ]
    },
    {
      "cell_type": "markdown",
      "metadata": {
        "editable": true,
        "tags": [],
        "id": "UZrTEJtVNl24"
      },
      "source": [
        "## If/Else\n",
        "\n",
        "- We specify what happens if `CONDITION` evaluates `False` using the `else` command.\n"
      ]
    },
    {
      "cell_type": "code",
      "execution_count": null,
      "metadata": {
        "editable": true,
        "tags": [],
        "id": "WlgEMXfXNl25"
      },
      "outputs": [],
      "source": [
        "language_to_learn = \"Python\"\n",
        "\n",
        "if language_to_learn == \"Python\":\n",
        "    print(\"You are in the right place!\")\n",
        "else:\n",
        "    print(\"You might be lost!\")"
      ]
    },
    {
      "cell_type": "markdown",
      "metadata": {
        "editable": true,
        "tags": [],
        "id": "SOKtreGSNl25"
      },
      "source": [
        "## If/Elif/Else\n",
        "\n",
        "- `elif` evaluates if the previous `if` or `elif` is `False`\n",
        "- and executes if the statement evaluates `True`.\n"
      ]
    },
    {
      "cell_type": "code",
      "execution_count": 17,
      "metadata": {
        "editable": true,
        "tags": [],
        "colab": {
          "base_uri": "https://localhost:8080/"
        },
        "id": "0J05fpATNl25",
        "outputId": "387c415a-aa31-45b4-800a-42630346ce7b"
      },
      "outputs": [
        {
          "output_type": "stream",
          "name": "stdout",
          "text": [
            "You might be lost!\n"
          ]
        }
      ],
      "source": [
        "language_to_learn = \"Julia\"\n",
        "\n",
        "if language_to_learn == \"Python\":\n",
        "    print(\"You are in the right place!\")\n",
        "elif language_to_learn == \"Julia\":\n",
        "    print(\"Hertie should offer Julia!\")\n",
        "elif language_to_learn == \"R\":\n",
        "    print(\"You should learn a better coding language!\")\n",
        "else:\n",
        "    print(\"You might be lost!\")"
      ]
    },
    {
      "cell_type": "markdown",
      "metadata": {
        "editable": true,
        "tags": [],
        "id": "_YvHBeMaNl25"
      },
      "source": [
        "## For Loops\n",
        "\n",
        "- A for-loop is a logical structure composed of two parts: an iterable and an action.\n",
        "- In python, they are written as follows:\n"
      ]
    },
    {
      "cell_type": "code",
      "execution_count": null,
      "metadata": {
        "editable": true,
        "tags": [],
        "id": "Tmic2I1KNl25"
      },
      "outputs": [],
      "source": [
        "for i in ITERABLE:\n",
        "    RUN_COMMAND"
      ]
    },
    {
      "cell_type": "markdown",
      "metadata": {
        "editable": true,
        "tags": [],
        "id": "5p3tcLajNl26"
      },
      "source": [
        "## Simple Example"
      ]
    },
    {
      "cell_type": "code",
      "execution_count": 18,
      "metadata": {
        "editable": true,
        "tags": [],
        "colab": {
          "base_uri": "https://localhost:8080/"
        },
        "id": "CdRVJS-SNl26",
        "outputId": "cb154b92-6a39-4215-a1e9-cb6787119d8e"
      },
      "outputs": [
        {
          "output_type": "stream",
          "name": "stdout",
          "text": [
            "1 + 1 = 2\n",
            "2 + 2 = 4\n",
            "3 + 3 = 6\n",
            "4 + 4 = 8\n",
            "5 + 5 = 10\n",
            "6 + 6 = 12\n",
            "7 + 7 = 14\n"
          ]
        }
      ],
      "source": [
        "for number in [1, 2, 3, 4, 5, 6, 7]:\n",
        "    print(number, \"+\", number, \"=\", number+number)"
      ]
    },
    {
      "cell_type": "markdown",
      "metadata": {
        "editable": true,
        "tags": [],
        "id": "7-TjH2ZbNl27"
      },
      "source": [
        "## Incrementing a Counter"
      ]
    },
    {
      "cell_type": "code",
      "execution_count": 22,
      "metadata": {
        "editable": true,
        "tags": [],
        "colab": {
          "base_uri": "https://localhost:8080/"
        },
        "id": "vPeRuXzkNl27",
        "outputId": "9cc8d8ab-379d-47d2-a862-d4d254ef315a"
      },
      "outputs": [
        {
          "output_type": "stream",
          "name": "stdout",
          "text": [
            "1 * 1 = 1\n",
            "2 * 1 = 2\n",
            "3 * 2 = 6\n",
            "4 * 6 = 24\n",
            "5 * 24 = 120\n",
            "6 * 120 = 720\n",
            "7 * 720 = 5040\n"
          ]
        }
      ],
      "source": [
        "counter = 1\n",
        "for number in [1, 2, 3, 4, 5, 6, 7]:\n",
        "    print(number, \"*\", counter, \"=\", counter*number)\n",
        "    counter = counter*number"
      ]
    },
    {
      "cell_type": "markdown",
      "metadata": {
        "editable": true,
        "tags": [],
        "id": "Brrc1aGDNl27"
      },
      "source": [
        "# Functions"
      ]
    },
    {
      "cell_type": "markdown",
      "metadata": {
        "editable": true,
        "tags": [],
        "id": "MC7KmbNrNl27"
      },
      "source": [
        "## Defining Functions\n",
        "\n",
        "Here's a simple function that adds 1 to the input:"
      ]
    },
    {
      "cell_type": "code",
      "execution_count": 23,
      "metadata": {
        "editable": true,
        "tags": [],
        "id": "bx1PzhKZNl27"
      },
      "outputs": [],
      "source": [
        "def add_one(x): # : means definition is done\n",
        "    y = x + 1\n",
        "    return y"
      ]
    },
    {
      "cell_type": "markdown",
      "metadata": {
        "editable": true,
        "tags": [],
        "id": "_fdWccKpNl28"
      },
      "source": [
        "- The command `def` followed by a space tells Python that you are defining a function.\n",
        "- This function is given the name followed by `def`; in this case `add_one`.\n",
        "- The _arguments_ of the function are given after the function name, inside `()`.\n",
        "- The `:` says that the definition line is done. The following line must be indented by four spaces."
      ]
    },
    {
      "cell_type": "markdown",
      "metadata": {
        "editable": true,
        "tags": [],
        "id": "gn3jVOVQNl28"
      },
      "source": [
        "## Namespaces\n",
        "\n",
        "- Python has _namespaces_ for variables.\n",
        "- There are multiple levels of namespace, but the two relevant to you are _local_ and _global_.\n",
        "- Variables defined _within_ a function are created within the _local_ namespace of that function.\n",
        "    - This means that they are only accessible from within the function.\n",
        "- Variables defined _outside_ a function are created within the _global_ namespace.\n",
        "- If a function contains a reference to a variable, it will first check to see whether the variable exists in the _local_ namespace, and then the _global_ one."
      ]
    },
    {
      "cell_type": "markdown",
      "metadata": {
        "editable": true,
        "tags": [],
        "id": "DSUTW7D3Nl28"
      },
      "source": [
        "## Namespace Examples\n",
        "\n",
        "_Clearing the environment first_"
      ]
    },
    {
      "cell_type": "code",
      "execution_count": 25,
      "metadata": {
        "editable": true,
        "tags": [],
        "id": "zuJ_4GYvNl28"
      },
      "outputs": [],
      "source": [
        "%reset -f"
      ]
    },
    {
      "cell_type": "markdown",
      "metadata": {
        "editable": true,
        "tags": [],
        "id": "ml8t7cImNl28"
      },
      "source": [
        "## Local Variables not Accessibly Globally\n",
        "\n",
        "The following code will result in an error:\n"
      ]
    },
    {
      "cell_type": "code",
      "execution_count": 24,
      "metadata": {
        "editable": true,
        "tags": [],
        "colab": {
          "base_uri": "https://localhost:8080/",
          "height": 210
        },
        "id": "8eipspVGNl29",
        "outputId": "68c912e7-61c3-43d5-efe7-47a62cdc5865"
      },
      "outputs": [
        {
          "output_type": "error",
          "ename": "NameError",
          "evalue": "ignored",
          "traceback": [
            "\u001b[0;31m---------------------------------------------------------------------------\u001b[0m",
            "\u001b[0;31mNameError\u001b[0m                                 Traceback (most recent call last)",
            "\u001b[0;32m<ipython-input-24-c863d869275e>\u001b[0m in \u001b[0;36m<cell line: 5>\u001b[0;34m()\u001b[0m\n\u001b[1;32m      3\u001b[0m     \u001b[0;32mreturn\u001b[0m \u001b[0mx\u001b[0m \u001b[0;34m+\u001b[0m \u001b[0my\u001b[0m\u001b[0;34m\u001b[0m\u001b[0;34m\u001b[0m\u001b[0m\n\u001b[1;32m      4\u001b[0m \u001b[0;34m\u001b[0m\u001b[0m\n\u001b[0;32m----> 5\u001b[0;31m \u001b[0mprint\u001b[0m\u001b[0;34m(\u001b[0m\u001b[0my\u001b[0m\u001b[0;34m)\u001b[0m\u001b[0;34m\u001b[0m\u001b[0;34m\u001b[0m\u001b[0m\n\u001b[0m",
            "\u001b[0;31mNameError\u001b[0m: name 'y' is not defined"
          ]
        }
      ],
      "source": [
        "def f(x):\n",
        "    y = 5\n",
        "    return x + y\n",
        "\n",
        "print(y)"
      ]
    },
    {
      "cell_type": "markdown",
      "metadata": {
        "editable": true,
        "tags": [],
        "id": "upK2F9H1Nl29"
      },
      "source": [
        "## Local Accessed Before Global\n",
        "\n",
        "The following code will return the _local_ value of `y`, thus returning 10.\n"
      ]
    },
    {
      "cell_type": "code",
      "execution_count": 26,
      "metadata": {
        "editable": true,
        "tags": [],
        "colab": {
          "base_uri": "https://localhost:8080/"
        },
        "id": "07yZy6juNl29",
        "outputId": "99de1de3-20b9-4043-d750-eef6fdc0c293"
      },
      "outputs": [
        {
          "output_type": "stream",
          "name": "stdout",
          "text": [
            "10\n"
          ]
        }
      ],
      "source": [
        "y = 0\n",
        "\n",
        "def f(x):\n",
        "    y = 5\n",
        "    return x + y\n",
        "\n",
        "print(f(5))"
      ]
    },
    {
      "cell_type": "markdown",
      "metadata": {
        "editable": true,
        "tags": [],
        "id": "sEiVBdaJNl29"
      },
      "source": [
        "## Functions Reading from Global Variables\n",
        "\n",
        "The following code uses `y`, which is defined globally. Therefore it returns 7."
      ]
    },
    {
      "cell_type": "code",
      "execution_count": 27,
      "metadata": {
        "editable": true,
        "tags": [],
        "colab": {
          "base_uri": "https://localhost:8080/"
        },
        "id": "imiGlL0ONl29",
        "outputId": "06d79465-8338-4753-9572-116522c17d8d"
      },
      "outputs": [
        {
          "output_type": "stream",
          "name": "stdout",
          "text": [
            "7\n"
          ]
        }
      ],
      "source": [
        "y = 2\n",
        "\n",
        "def f(x):\n",
        "    return x + y\n",
        "\n",
        "print(f(5))"
      ]
    },
    {
      "cell_type": "markdown",
      "metadata": {
        "editable": true,
        "tags": [],
        "id": "acGhUUzcNl2-"
      },
      "source": [
        "## `Lambda` Functions\n",
        "\n",
        "Python has _lambda functions_. These are essentially a way to define a function in-line. Below, the function `f` is equivalent to the line `lambda x: x+1`."
      ]
    },
    {
      "cell_type": "code",
      "execution_count": 28,
      "metadata": {
        "editable": true,
        "tags": [],
        "colab": {
          "base_uri": "https://localhost:8080/"
        },
        "id": "rV-M9QhZNl2-",
        "outputId": "30ed49ad-b47e-4c02-8717-2bc1a498947d"
      },
      "outputs": [
        {
          "output_type": "execute_result",
          "data": {
            "text/plain": [
              "<function __main__.<lambda>(x)>"
            ]
          },
          "metadata": {},
          "execution_count": 28
        }
      ],
      "source": [
        "def f(x):\n",
        "    return x+1\n",
        "\n",
        "lambda x: x+1"
      ]
    },
    {
      "cell_type": "markdown",
      "metadata": {
        "editable": true,
        "tags": [],
        "id": "zf_u4wfsNl2-"
      },
      "source": [
        "# Recap"
      ]
    },
    {
      "cell_type": "markdown",
      "metadata": {
        "editable": true,
        "tags": [],
        "id": "qrZyhf6vNl2_"
      },
      "source": [
        "## We covered a lot!\n",
        "\n",
        "- 4 Data Types\n",
        "  - `int`: whole numbers\n",
        "  - `float`: rational numbers. Unexpected behavior.\n",
        "  - `bool`: True/False values\n",
        "  - `str`: Character sequence. Behaves like sequence.\n",
        "- 2 data structures\n",
        "  - Lists: ordered sequence of values\n",
        "  - Dictionaries: mapping of key to value\n",
        "- 2 control flow structures\n",
        "  - Conditional execution: `if`/`elif`/`else`\n",
        "  - Iteration: for-loops\n",
        "- How to write functions"
      ]
    },
    {
      "cell_type": "markdown",
      "metadata": {
        "editable": true,
        "tags": [],
        "id": "tP2s1aOYNl2_"
      },
      "source": [
        "## Question Time"
      ]
    },
    {
      "cell_type": "markdown",
      "metadata": {
        "editable": true,
        "tags": [],
        "id": "ItJfSM2yNl2_"
      },
      "source": [
        "# Break"
      ]
    },
    {
      "cell_type": "code",
      "execution_count": null,
      "metadata": {
        "editable": true,
        "tags": [],
        "id": "7zSAeNBqNl2_"
      },
      "outputs": [],
      "source": []
    }
  ],
  "metadata": {
    "kernelspec": {
      "display_name": "Python 3 (ipykernel)",
      "language": "python",
      "name": "python3"
    },
    "language_info": {
      "codemirror_mode": {
        "name": "ipython",
        "version": 3
      },
      "file_extension": ".py",
      "mimetype": "text/x-python",
      "name": "python",
      "nbconvert_exporter": "python",
      "pygments_lexer": "ipython3",
      "version": "3.11.4"
    },
    "colab": {
      "provenance": []
    }
  },
  "nbformat": 4,
  "nbformat_minor": 0
}