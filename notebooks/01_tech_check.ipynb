{
  "cells": [
    {
      "cell_type": "markdown",
      "id": "e110c140-b066-405d-9423-6ade0fa20967",
      "metadata": {
        "id": "e110c140-b066-405d-9423-6ade0fa20967"
      },
      "source": [
        "# Colab Notebook\n",
        "\n",
        "Hello! This is an online coding notebook hosted by Google.\n",
        "\n",
        "If you don't know how to use it, watch me demonstrate.\n"
      ]
    },
    {
      "cell_type": "code",
      "execution_count": 3,
      "id": "58afce63-1725-4642-a999-a6c378dfe799",
      "metadata": {
        "colab": {
          "base_uri": "https://localhost:8080/"
        },
        "id": "58afce63-1725-4642-a999-a6c378dfe799",
        "outputId": "f9b393eb-6599-4fc6-e4c9-c42f1e358dfb"
      },
      "outputs": [
        {
          "output_type": "stream",
          "name": "stdout",
          "text": [
            "Hello Colab!\n"
          ]
        }
      ],
      "source": [
        "print(\"Hello Colab!\")"
      ]
    },
    {
      "cell_type": "code",
      "execution_count": 8,
      "id": "1e385560-e9c9-4a91-a4a4-ee74374a9336",
      "metadata": {
        "colab": {
          "base_uri": "https://localhost:8080/"
        },
        "id": "1e385560-e9c9-4a91-a4a4-ee74374a9336",
        "outputId": "acbb2baa-d9b5-47bb-c1ef-5fcee4e8d745"
      },
      "outputs": [
        {
          "output_type": "stream",
          "name": "stdout",
          "text": [
            "[1, 2, 3]\n",
            "[1, 2, 3, 4]\n",
            "[1, 2, 3]\n"
          ]
        },
        {
          "output_type": "execute_result",
          "data": {
            "text/plain": [
              "3"
            ]
          },
          "metadata": {},
          "execution_count": 8
        }
      ],
      "source": [
        "my_list = [1, 2, 3]\n",
        "print(my_list)\n",
        "my_list.append(4)\n",
        "print(my_list)\n",
        "my_list.pop()\n",
        "print(my_list)\n",
        "len(my_list)"
      ]
    }
  ],
  "metadata": {
    "kernelspec": {
      "display_name": "Python 3 (ipykernel)",
      "language": "python",
      "name": "python3"
    },
    "language_info": {
      "codemirror_mode": {
        "name": "ipython",
        "version": 3
      },
      "file_extension": ".py",
      "mimetype": "text/x-python",
      "name": "python",
      "nbconvert_exporter": "python",
      "pygments_lexer": "ipython3",
      "version": "3.11.4"
    },
    "colab": {
      "provenance": []
    }
  },
  "nbformat": 4,
  "nbformat_minor": 5
}