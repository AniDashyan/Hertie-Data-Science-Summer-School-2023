{
  "cells": [
    {
      "cell_type": "markdown",
      "metadata": {
        "editable": true,
        "tags": [],
        "id": "1n9WsM2MgEbi"
      },
      "source": [
        "# Preface"
      ]
    },
    {
      "cell_type": "markdown",
      "metadata": {
        "editable": true,
        "tags": [],
        "id": "QNZy2D7SgEbk"
      },
      "source": [
        "## 🐼 ?\n",
        "\n",
        "- Popular library for analyzing _tabular data_.\n",
        "\t- Tabular: rectangular, has rows and columns.\n",
        "- _Expressive_ and _full-featured_.\n",
        "\t- Readable syntax\n",
        "\t- Lots of convenience functions\n",
        "\n",
        "🐼: _panel data, apparently._ ^[https://www.dlr.de/sc/Portaldata/15/Resources/dokumente/pyhpc2011/submissions/pyhpc2011_submission_9.pdf]"
      ]
    },
    {
      "cell_type": "markdown",
      "metadata": {
        "editable": true,
        "tags": [],
        "id": "Uuugtz9bgEbk"
      },
      "source": [
        "## Pros and Cons\n",
        "\n",
        ":::: {.columns}\n",
        "\n",
        "::: {.column}\n",
        "**Reasons to use**\n",
        "\n",
        "- Support for **many** file types\n",
        "- Integrated into data analysis ecosystem\n",
        "- Balance of verbosity and function\n",
        "- Complex time-series and hierarchically indexed data functionality\n",
        ":::\n",
        "\n",
        "::: {.column}\n",
        "**Reasons not to use**\n",
        "\n",
        "- Struggles with larger datasets (>1M rows)\n",
        "- Significant overhead\n",
        "- Memory-intensive\n",
        "- CPU-only\n",
        "\n",
        ":::\n",
        "\n",
        "::::"
      ]
    },
    {
      "cell_type": "markdown",
      "metadata": {
        "editable": true,
        "tags": [],
        "id": "0lmhxUdDgEbl"
      },
      "source": [
        "## Running Scenario\n",
        "\n",
        "- Analyzing student scores and sending summary reports\n",
        "- Two datasets:\n",
        "\t- `data/scores.csv`: students' scores in 5 subjects\n",
        "\t- `data/contacts.csv`: students' contact details"
      ]
    },
    {
      "cell_type": "markdown",
      "metadata": {
        "editable": true,
        "tags": [],
        "id": "A0znnVckgEbl"
      },
      "source": [
        "## Functionality Covered\n",
        "\n",
        "- How do I read in data from files?\n",
        "- How do I select and filter values?\n",
        "- How do I perform calculations on data?\n",
        "- How do I merge/combine data from multiple sources?"
      ]
    },
    {
      "cell_type": "markdown",
      "metadata": {
        "editable": true,
        "tags": [],
        "id": "OKQbBQJYgEbl"
      },
      "source": [
        "# Importing Libraries\n",
        "\n",
        "_A brief aside on a first step that tends to get overlooked._"
      ]
    },
    {
      "cell_type": "markdown",
      "metadata": {
        "editable": true,
        "tags": [],
        "id": "MR9LwcLWgEbl"
      },
      "source": [
        "## Libraries\n",
        "\n",
        "- Functionality of base Python is limited for data analysis workflow\n",
        "- Python language is extensible, benefits from enormous ecosystem\n",
        "- `pandas` is a _library_ for data analysis"
      ]
    },
    {
      "cell_type": "markdown",
      "metadata": {
        "editable": true,
        "tags": [],
        "id": "OqZTTOd0gEbl"
      },
      "source": [
        "## `import`\n",
        "\n",
        "- To use a library, we need to `import` it:"
      ]
    },
    {
      "cell_type": "code",
      "execution_count": 1,
      "metadata": {
        "editable": true,
        "output-location": "column",
        "tags": [],
        "id": "v-KgdFBbgEbm"
      },
      "outputs": [],
      "source": [
        "import pandas"
      ]
    },
    {
      "cell_type": "markdown",
      "metadata": {
        "editable": true,
        "tags": [],
        "id": "00r8QY5ogEbn"
      },
      "source": [
        "- In Jupyter, we can use `%who` to list objects in the global namespace\n",
        "\n"
      ]
    },
    {
      "cell_type": "code",
      "execution_count": 2,
      "metadata": {
        "editable": true,
        "output-location": "column",
        "tags": [],
        "id": "2uVRr5AjgEbn",
        "outputId": "1804b13e-0940-45ae-f448-a10218efd7f6",
        "colab": {
          "base_uri": "https://localhost:8080/"
        }
      },
      "outputs": [
        {
          "output_type": "stream",
          "name": "stdout",
          "text": [
            "pandas\t \n"
          ]
        }
      ],
      "source": [
        "%who"
      ]
    },
    {
      "cell_type": "markdown",
      "metadata": {
        "editable": true,
        "tags": [],
        "id": "w8heAC6tgEbn"
      },
      "source": [
        "- The methods within pandas are now accessible as _methods_ of the imported _module_.\n"
      ]
    },
    {
      "cell_type": "code",
      "execution_count": 3,
      "metadata": {
        "editable": true,
        "output-location": "column",
        "tags": [],
        "id": "Jo76Of1ugEbn",
        "outputId": "86ad4aa8-3d8b-46fc-c287-c8644a742f7a",
        "colab": {
          "base_uri": "https://localhost:8080/",
          "height": 35
        }
      },
      "outputs": [
        {
          "output_type": "execute_result",
          "data": {
            "text/plain": [
              "'1.5.3'"
            ],
            "application/vnd.google.colaboratory.intrinsic+json": {
              "type": "string"
            }
          },
          "metadata": {},
          "execution_count": 3
        }
      ],
      "source": [
        "pandas.__version__"
      ]
    },
    {
      "cell_type": "markdown",
      "metadata": {
        "editable": true,
        "tags": [],
        "id": "a4NNik-XgEbo"
      },
      "source": [
        "## `from`\n",
        "\n",
        "- We can use the `from` command to import objects and methods directly from modules into the global namespace.\n"
      ]
    },
    {
      "cell_type": "code",
      "execution_count": 4,
      "metadata": {
        "editable": true,
        "output-location": "column",
        "tags": [],
        "id": "MxvqaC3egEbo",
        "outputId": "c2ed7764-5be4-4ee8-a039-c1028dead5a7",
        "colab": {
          "base_uri": "https://localhost:8080/"
        }
      },
      "outputs": [
        {
          "output_type": "stream",
          "name": "stdout",
          "text": [
            "1.5.3\n"
          ]
        }
      ],
      "source": [
        "from pandas import __version__\n",
        "print(__version__)"
      ]
    },
    {
      "cell_type": "markdown",
      "metadata": {
        "editable": true,
        "tags": [],
        "id": "iQgN6eJPgEbo"
      },
      "source": [
        "## `as`\n",
        "\n",
        "- The default approach in Python is to keep fewer objects in the global namespace.\n",
        "- This means always prefacing the function or class we want to use with the prefix name.\n",
        "- This can get verbose, so we often abbreviate library names with `as`:\n"
      ]
    },
    {
      "cell_type": "code",
      "execution_count": 5,
      "metadata": {
        "editable": true,
        "output-location": "column",
        "tags": [],
        "id": "Z4CPZsczgEbo",
        "outputId": "86e0f366-83ec-46e6-ea84-93d49cdf40af",
        "colab": {
          "base_uri": "https://localhost:8080/"
        }
      },
      "outputs": [
        {
          "output_type": "stream",
          "name": "stdout",
          "text": [
            "<module 'pandas' from '/usr/local/lib/python3.10/dist-packages/pandas/__init__.py'>\n",
            "<class 'pandas.core.frame.DataFrame'>\n"
          ]
        }
      ],
      "source": [
        "import pandas as pd\n",
        "print(pd)\n",
        "print(pd.DataFrame)"
      ]
    },
    {
      "cell_type": "markdown",
      "metadata": {
        "editable": true,
        "tags": [],
        "id": "CAM8lFpdgEbo"
      },
      "source": [
        "## Contrast with `R`\n",
        "\n",
        "- In `R`, the default approach is to import all methods from a library into the global namespace.\n",
        "- If we did this with `pandas` it would look like this:\n"
      ]
    },
    {
      "cell_type": "code",
      "execution_count": 6,
      "metadata": {
        "editable": true,
        "tags": [],
        "id": "YpoHqMIegEbp",
        "outputId": "706c7437-4d4f-40c5-9171-4b4522e62966",
        "colab": {
          "base_uri": "https://localhost:8080/"
        }
      },
      "outputs": [
        {
          "output_type": "stream",
          "name": "stdout",
          "text": [
            "ArrowDtype\t BooleanDtype\t Categorical\t CategoricalDtype\t CategoricalIndex\t DataFrame\t DateOffset\t DatetimeIndex\t DatetimeTZDtype\t \n",
            "ExcelFile\t ExcelWriter\t Flags\t Float32Dtype\t Float64Dtype\t Grouper\t HDFStore\t Index\t IndexSlice\t \n",
            "Int16Dtype\t Int32Dtype\t Int64Dtype\t Int8Dtype\t Interval\t IntervalDtype\t IntervalIndex\t MultiIndex\t NA\t \n",
            "NaT\t NamedAgg\t Period\t PeriodDtype\t PeriodIndex\t RangeIndex\t Series\t SparseDtype\t StringDtype\t \n",
            "Timedelta\t TimedeltaIndex\t Timestamp\t UInt16Dtype\t UInt32Dtype\t UInt64Dtype\t UInt8Dtype\t api\t array\t \n",
            "arrays\t bdate_range\t concat\t crosstab\t cut\t date_range\t describe_option\t errors\t eval\t \n",
            "factorize\t from_dummies\t get_dummies\t get_option\t infer_freq\t interval_range\t io\t isna\t isnull\t \n",
            "json_normalize\t lreshape\t melt\t merge\t merge_asof\t merge_ordered\t notna\t notnull\t offsets\t \n",
            "option_context\t options\t pandas\t pd\t period_range\t pivot\t pivot_table\t plotting\t qcut\t \n",
            "read_clipboard\t read_csv\t read_excel\t read_feather\t read_fwf\t read_gbq\t read_hdf\t read_html\t read_json\t \n",
            "read_orc\t read_parquet\t read_pickle\t read_sas\t read_spss\t read_sql\t read_sql_query\t read_sql_table\t read_stata\t \n",
            "read_table\t read_xml\t reset_option\t set_eng_float_format\t set_option\t show_versions\t test\t testing\t timedelta_range\t \n",
            "to_datetime\t to_numeric\t to_pickle\t to_timedelta\t tseries\t unique\t value_counts\t wide_to_long\t \n"
          ]
        }
      ],
      "source": [
        "from pandas import *\n",
        "%who"
      ]
    },
    {
      "cell_type": "markdown",
      "metadata": {
        "editable": true,
        "tags": [],
        "id": "78QGS897gEbp"
      },
      "source": [
        "## Cleanup\n"
      ]
    },
    {
      "cell_type": "code",
      "execution_count": 7,
      "metadata": {
        "editable": true,
        "tags": [],
        "id": "MqAs57h-gEbp"
      },
      "outputs": [],
      "source": [
        "%reset -f"
      ]
    },
    {
      "cell_type": "code",
      "execution_count": 8,
      "metadata": {
        "editable": true,
        "tags": [],
        "id": "C65C6J7OgEbp"
      },
      "outputs": [],
      "source": [
        "import pandas as pd # normal way of importing"
      ]
    },
    {
      "cell_type": "code",
      "execution_count": 9,
      "metadata": {
        "editable": true,
        "tags": [],
        "id": "PZqBmiSSgEbp"
      },
      "outputs": [],
      "source": [
        "# For colab: we need to replace paths to files with urls to the location on github\n",
        "data_url = \"https://raw.githubusercontent.com/mmjh-dev/ds3-intro-python/main/\""
      ]
    },
    {
      "cell_type": "markdown",
      "metadata": {
        "editable": true,
        "tags": [],
        "id": "u5JGqFkfgEbq"
      },
      "source": [
        "# Getting Your Data"
      ]
    },
    {
      "cell_type": "markdown",
      "metadata": {
        "editable": true,
        "tags": [],
        "id": "AaN5iKBAgEbq"
      },
      "source": [
        "## Manual `DataFrame`\n",
        "\n",
        "- Can be constructed manually from a `dict` of equal-length `list`s."
      ]
    },
    {
      "cell_type": "code",
      "execution_count": 11,
      "metadata": {
        "editable": true,
        "output-location": "default",
        "tags": [],
        "id": "qsQvsosBgEbq"
      },
      "outputs": [],
      "source": [
        "scores_dict = {\n",
        "\t'student_id': ['5a01', '5a12', '5b05', '5b10', '5e04'],\n",
        "\t'math':    [95, 78, 85, 90, 88],\n",
        "\t'english': [97, 91, 86, 89, 90],\n",
        "\t'history': [80, 89, 94, 87, 85],\n",
        "\t'biology': [81, 86, 88, 99, 88],\n",
        "\t'art':     [86, 81, 82, 91, 84]\n",
        "}"
      ]
    },
    {
      "cell_type": "markdown",
      "metadata": {
        "editable": true,
        "tags": [],
        "id": "c1sMc52ggEbq"
      },
      "source": [
        "## Manual `DataFrame`"
      ]
    },
    {
      "cell_type": "code",
      "execution_count": 16,
      "metadata": {
        "editable": true,
        "tags": [],
        "id": "EaWVU-DTgEbq",
        "outputId": "02e75e8b-e57e-4593-dce5-22273b01e271",
        "colab": {
          "base_uri": "https://localhost:8080/",
          "height": 206
        }
      },
      "outputs": [
        {
          "output_type": "execute_result",
          "data": {
            "text/plain": [
              "  student_id  math  english  history  biology  art\n",
              "0       5a01    95       97       80       81   86\n",
              "1       5a12    78       91       89       86   81\n",
              "2       5b05    85       86       94       88   82\n",
              "3       5b10    90       89       87       99   91\n",
              "4       5e04    88       90       85       88   84"
            ],
            "text/html": [
              "\n",
              "\n",
              "  <div id=\"df-82f7c89f-bd17-4e06-ac76-58fa43f27af1\">\n",
              "    <div class=\"colab-df-container\">\n",
              "      <div>\n",
              "<style scoped>\n",
              "    .dataframe tbody tr th:only-of-type {\n",
              "        vertical-align: middle;\n",
              "    }\n",
              "\n",
              "    .dataframe tbody tr th {\n",
              "        vertical-align: top;\n",
              "    }\n",
              "\n",
              "    .dataframe thead th {\n",
              "        text-align: right;\n",
              "    }\n",
              "</style>\n",
              "<table border=\"1\" class=\"dataframe\">\n",
              "  <thead>\n",
              "    <tr style=\"text-align: right;\">\n",
              "      <th></th>\n",
              "      <th>student_id</th>\n",
              "      <th>math</th>\n",
              "      <th>english</th>\n",
              "      <th>history</th>\n",
              "      <th>biology</th>\n",
              "      <th>art</th>\n",
              "    </tr>\n",
              "  </thead>\n",
              "  <tbody>\n",
              "    <tr>\n",
              "      <th>0</th>\n",
              "      <td>5a01</td>\n",
              "      <td>95</td>\n",
              "      <td>97</td>\n",
              "      <td>80</td>\n",
              "      <td>81</td>\n",
              "      <td>86</td>\n",
              "    </tr>\n",
              "    <tr>\n",
              "      <th>1</th>\n",
              "      <td>5a12</td>\n",
              "      <td>78</td>\n",
              "      <td>91</td>\n",
              "      <td>89</td>\n",
              "      <td>86</td>\n",
              "      <td>81</td>\n",
              "    </tr>\n",
              "    <tr>\n",
              "      <th>2</th>\n",
              "      <td>5b05</td>\n",
              "      <td>85</td>\n",
              "      <td>86</td>\n",
              "      <td>94</td>\n",
              "      <td>88</td>\n",
              "      <td>82</td>\n",
              "    </tr>\n",
              "    <tr>\n",
              "      <th>3</th>\n",
              "      <td>5b10</td>\n",
              "      <td>90</td>\n",
              "      <td>89</td>\n",
              "      <td>87</td>\n",
              "      <td>99</td>\n",
              "      <td>91</td>\n",
              "    </tr>\n",
              "    <tr>\n",
              "      <th>4</th>\n",
              "      <td>5e04</td>\n",
              "      <td>88</td>\n",
              "      <td>90</td>\n",
              "      <td>85</td>\n",
              "      <td>88</td>\n",
              "      <td>84</td>\n",
              "    </tr>\n",
              "  </tbody>\n",
              "</table>\n",
              "</div>\n",
              "      <button class=\"colab-df-convert\" onclick=\"convertToInteractive('df-82f7c89f-bd17-4e06-ac76-58fa43f27af1')\"\n",
              "              title=\"Convert this dataframe to an interactive table.\"\n",
              "              style=\"display:none;\">\n",
              "\n",
              "  <svg xmlns=\"http://www.w3.org/2000/svg\" height=\"24px\"viewBox=\"0 0 24 24\"\n",
              "       width=\"24px\">\n",
              "    <path d=\"M0 0h24v24H0V0z\" fill=\"none\"/>\n",
              "    <path d=\"M18.56 5.44l.94 2.06.94-2.06 2.06-.94-2.06-.94-.94-2.06-.94 2.06-2.06.94zm-11 1L8.5 8.5l.94-2.06 2.06-.94-2.06-.94L8.5 2.5l-.94 2.06-2.06.94zm10 10l.94 2.06.94-2.06 2.06-.94-2.06-.94-.94-2.06-.94 2.06-2.06.94z\"/><path d=\"M17.41 7.96l-1.37-1.37c-.4-.4-.92-.59-1.43-.59-.52 0-1.04.2-1.43.59L10.3 9.45l-7.72 7.72c-.78.78-.78 2.05 0 2.83L4 21.41c.39.39.9.59 1.41.59.51 0 1.02-.2 1.41-.59l7.78-7.78 2.81-2.81c.8-.78.8-2.07 0-2.86zM5.41 20L4 18.59l7.72-7.72 1.47 1.35L5.41 20z\"/>\n",
              "  </svg>\n",
              "      </button>\n",
              "\n",
              "\n",
              "\n",
              "    <div id=\"df-4d55c69c-229c-48a9-b783-048d05d5103f\">\n",
              "      <button class=\"colab-df-quickchart\" onclick=\"quickchart('df-4d55c69c-229c-48a9-b783-048d05d5103f')\"\n",
              "              title=\"Suggest charts.\"\n",
              "              style=\"display:none;\">\n",
              "\n",
              "<svg xmlns=\"http://www.w3.org/2000/svg\" height=\"24px\"viewBox=\"0 0 24 24\"\n",
              "     width=\"24px\">\n",
              "    <g>\n",
              "        <path d=\"M19 3H5c-1.1 0-2 .9-2 2v14c0 1.1.9 2 2 2h14c1.1 0 2-.9 2-2V5c0-1.1-.9-2-2-2zM9 17H7v-7h2v7zm4 0h-2V7h2v10zm4 0h-2v-4h2v4z\"/>\n",
              "    </g>\n",
              "</svg>\n",
              "      </button>\n",
              "    </div>\n",
              "\n",
              "<style>\n",
              "  .colab-df-quickchart {\n",
              "    background-color: #E8F0FE;\n",
              "    border: none;\n",
              "    border-radius: 50%;\n",
              "    cursor: pointer;\n",
              "    display: none;\n",
              "    fill: #1967D2;\n",
              "    height: 32px;\n",
              "    padding: 0 0 0 0;\n",
              "    width: 32px;\n",
              "  }\n",
              "\n",
              "  .colab-df-quickchart:hover {\n",
              "    background-color: #E2EBFA;\n",
              "    box-shadow: 0px 1px 2px rgba(60, 64, 67, 0.3), 0px 1px 3px 1px rgba(60, 64, 67, 0.15);\n",
              "    fill: #174EA6;\n",
              "  }\n",
              "\n",
              "  [theme=dark] .colab-df-quickchart {\n",
              "    background-color: #3B4455;\n",
              "    fill: #D2E3FC;\n",
              "  }\n",
              "\n",
              "  [theme=dark] .colab-df-quickchart:hover {\n",
              "    background-color: #434B5C;\n",
              "    box-shadow: 0px 1px 3px 1px rgba(0, 0, 0, 0.15);\n",
              "    filter: drop-shadow(0px 1px 2px rgba(0, 0, 0, 0.3));\n",
              "    fill: #FFFFFF;\n",
              "  }\n",
              "</style>\n",
              "\n",
              "    <script>\n",
              "      async function quickchart(key) {\n",
              "        const containerElement = document.querySelector('#' + key);\n",
              "        const charts = await google.colab.kernel.invokeFunction(\n",
              "            'suggestCharts', [key], {});\n",
              "      }\n",
              "    </script>\n",
              "\n",
              "      <script>\n",
              "\n",
              "function displayQuickchartButton(domScope) {\n",
              "  let quickchartButtonEl =\n",
              "    domScope.querySelector('#df-4d55c69c-229c-48a9-b783-048d05d5103f button.colab-df-quickchart');\n",
              "  quickchartButtonEl.style.display =\n",
              "    google.colab.kernel.accessAllowed ? 'block' : 'none';\n",
              "}\n",
              "\n",
              "        displayQuickchartButton(document);\n",
              "      </script>\n",
              "      <style>\n",
              "    .colab-df-container {\n",
              "      display:flex;\n",
              "      flex-wrap:wrap;\n",
              "      gap: 12px;\n",
              "    }\n",
              "\n",
              "    .colab-df-convert {\n",
              "      background-color: #E8F0FE;\n",
              "      border: none;\n",
              "      border-radius: 50%;\n",
              "      cursor: pointer;\n",
              "      display: none;\n",
              "      fill: #1967D2;\n",
              "      height: 32px;\n",
              "      padding: 0 0 0 0;\n",
              "      width: 32px;\n",
              "    }\n",
              "\n",
              "    .colab-df-convert:hover {\n",
              "      background-color: #E2EBFA;\n",
              "      box-shadow: 0px 1px 2px rgba(60, 64, 67, 0.3), 0px 1px 3px 1px rgba(60, 64, 67, 0.15);\n",
              "      fill: #174EA6;\n",
              "    }\n",
              "\n",
              "    [theme=dark] .colab-df-convert {\n",
              "      background-color: #3B4455;\n",
              "      fill: #D2E3FC;\n",
              "    }\n",
              "\n",
              "    [theme=dark] .colab-df-convert:hover {\n",
              "      background-color: #434B5C;\n",
              "      box-shadow: 0px 1px 3px 1px rgba(0, 0, 0, 0.15);\n",
              "      filter: drop-shadow(0px 1px 2px rgba(0, 0, 0, 0.3));\n",
              "      fill: #FFFFFF;\n",
              "    }\n",
              "  </style>\n",
              "\n",
              "      <script>\n",
              "        const buttonEl =\n",
              "          document.querySelector('#df-82f7c89f-bd17-4e06-ac76-58fa43f27af1 button.colab-df-convert');\n",
              "        buttonEl.style.display =\n",
              "          google.colab.kernel.accessAllowed ? 'block' : 'none';\n",
              "\n",
              "        async function convertToInteractive(key) {\n",
              "          const element = document.querySelector('#df-82f7c89f-bd17-4e06-ac76-58fa43f27af1');\n",
              "          const dataTable =\n",
              "            await google.colab.kernel.invokeFunction('convertToInteractive',\n",
              "                                                     [key], {});\n",
              "          if (!dataTable) return;\n",
              "\n",
              "          const docLinkHtml = 'Like what you see? Visit the ' +\n",
              "            '<a target=\"_blank\" href=https://colab.research.google.com/notebooks/data_table.ipynb>data table notebook</a>'\n",
              "            + ' to learn more about interactive tables.';\n",
              "          element.innerHTML = '';\n",
              "          dataTable['output_type'] = 'display_data';\n",
              "          await google.colab.output.renderOutput(dataTable, element);\n",
              "          const docLink = document.createElement('div');\n",
              "          docLink.innerHTML = docLinkHtml;\n",
              "          element.appendChild(docLink);\n",
              "        }\n",
              "      </script>\n",
              "    </div>\n",
              "  </div>\n"
            ]
          },
          "metadata": {},
          "execution_count": 16
        }
      ],
      "source": [
        "df = pd.DataFrame(data=scores_dict)\n",
        "df"
      ]
    },
    {
      "cell_type": "markdown",
      "metadata": {
        "editable": true,
        "tags": [],
        "id": "S0OE3XT0gEbq"
      },
      "source": [
        "## Reading from a file\n",
        "\n",
        "`pandas` comes with functions for reading and writing to all kinds of data formats. A quick list can be viewed using tab completion:\n",
        "\n",
        "In the cell below, type `pd.read_` and then press the \\<TAB\\> key"
      ]
    },
    {
      "cell_type": "markdown",
      "metadata": {
        "editable": true,
        "tags": [],
        "id": "P_y-GTVZgEbq"
      },
      "source": [
        "## Data IO: `read_csv`"
      ]
    },
    {
      "cell_type": "code",
      "execution_count": 13,
      "metadata": {
        "editable": true,
        "output-location": "default",
        "tags": [],
        "id": "b9bpzkXbgEbq",
        "outputId": "d433c724-8c1a-4694-e510-054eaf7a8c6c",
        "colab": {
          "base_uri": "https://localhost:8080/",
          "height": 206
        }
      },
      "outputs": [
        {
          "output_type": "execute_result",
          "data": {
            "text/plain": [
              "  student_id  math  english  history  biology  art\n",
              "0       5a01    95       97       80       81   86\n",
              "1       5a12    78       91       89       86   81\n",
              "2       5b05    85       86       94       88   82\n",
              "3       5b10    90       89       87       99   91\n",
              "4       5e04    88       90       85       88   84"
            ],
            "text/html": [
              "\n",
              "\n",
              "  <div id=\"df-0be60555-fef2-487f-9ca8-e3b0d4a4d9b3\">\n",
              "    <div class=\"colab-df-container\">\n",
              "      <div>\n",
              "<style scoped>\n",
              "    .dataframe tbody tr th:only-of-type {\n",
              "        vertical-align: middle;\n",
              "    }\n",
              "\n",
              "    .dataframe tbody tr th {\n",
              "        vertical-align: top;\n",
              "    }\n",
              "\n",
              "    .dataframe thead th {\n",
              "        text-align: right;\n",
              "    }\n",
              "</style>\n",
              "<table border=\"1\" class=\"dataframe\">\n",
              "  <thead>\n",
              "    <tr style=\"text-align: right;\">\n",
              "      <th></th>\n",
              "      <th>student_id</th>\n",
              "      <th>math</th>\n",
              "      <th>english</th>\n",
              "      <th>history</th>\n",
              "      <th>biology</th>\n",
              "      <th>art</th>\n",
              "    </tr>\n",
              "  </thead>\n",
              "  <tbody>\n",
              "    <tr>\n",
              "      <th>0</th>\n",
              "      <td>5a01</td>\n",
              "      <td>95</td>\n",
              "      <td>97</td>\n",
              "      <td>80</td>\n",
              "      <td>81</td>\n",
              "      <td>86</td>\n",
              "    </tr>\n",
              "    <tr>\n",
              "      <th>1</th>\n",
              "      <td>5a12</td>\n",
              "      <td>78</td>\n",
              "      <td>91</td>\n",
              "      <td>89</td>\n",
              "      <td>86</td>\n",
              "      <td>81</td>\n",
              "    </tr>\n",
              "    <tr>\n",
              "      <th>2</th>\n",
              "      <td>5b05</td>\n",
              "      <td>85</td>\n",
              "      <td>86</td>\n",
              "      <td>94</td>\n",
              "      <td>88</td>\n",
              "      <td>82</td>\n",
              "    </tr>\n",
              "    <tr>\n",
              "      <th>3</th>\n",
              "      <td>5b10</td>\n",
              "      <td>90</td>\n",
              "      <td>89</td>\n",
              "      <td>87</td>\n",
              "      <td>99</td>\n",
              "      <td>91</td>\n",
              "    </tr>\n",
              "    <tr>\n",
              "      <th>4</th>\n",
              "      <td>5e04</td>\n",
              "      <td>88</td>\n",
              "      <td>90</td>\n",
              "      <td>85</td>\n",
              "      <td>88</td>\n",
              "      <td>84</td>\n",
              "    </tr>\n",
              "  </tbody>\n",
              "</table>\n",
              "</div>\n",
              "      <button class=\"colab-df-convert\" onclick=\"convertToInteractive('df-0be60555-fef2-487f-9ca8-e3b0d4a4d9b3')\"\n",
              "              title=\"Convert this dataframe to an interactive table.\"\n",
              "              style=\"display:none;\">\n",
              "\n",
              "  <svg xmlns=\"http://www.w3.org/2000/svg\" height=\"24px\"viewBox=\"0 0 24 24\"\n",
              "       width=\"24px\">\n",
              "    <path d=\"M0 0h24v24H0V0z\" fill=\"none\"/>\n",
              "    <path d=\"M18.56 5.44l.94 2.06.94-2.06 2.06-.94-2.06-.94-.94-2.06-.94 2.06-2.06.94zm-11 1L8.5 8.5l.94-2.06 2.06-.94-2.06-.94L8.5 2.5l-.94 2.06-2.06.94zm10 10l.94 2.06.94-2.06 2.06-.94-2.06-.94-.94-2.06-.94 2.06-2.06.94z\"/><path d=\"M17.41 7.96l-1.37-1.37c-.4-.4-.92-.59-1.43-.59-.52 0-1.04.2-1.43.59L10.3 9.45l-7.72 7.72c-.78.78-.78 2.05 0 2.83L4 21.41c.39.39.9.59 1.41.59.51 0 1.02-.2 1.41-.59l7.78-7.78 2.81-2.81c.8-.78.8-2.07 0-2.86zM5.41 20L4 18.59l7.72-7.72 1.47 1.35L5.41 20z\"/>\n",
              "  </svg>\n",
              "      </button>\n",
              "\n",
              "\n",
              "\n",
              "    <div id=\"df-73540ee5-5da4-4f55-ad15-2401d82f572c\">\n",
              "      <button class=\"colab-df-quickchart\" onclick=\"quickchart('df-73540ee5-5da4-4f55-ad15-2401d82f572c')\"\n",
              "              title=\"Suggest charts.\"\n",
              "              style=\"display:none;\">\n",
              "\n",
              "<svg xmlns=\"http://www.w3.org/2000/svg\" height=\"24px\"viewBox=\"0 0 24 24\"\n",
              "     width=\"24px\">\n",
              "    <g>\n",
              "        <path d=\"M19 3H5c-1.1 0-2 .9-2 2v14c0 1.1.9 2 2 2h14c1.1 0 2-.9 2-2V5c0-1.1-.9-2-2-2zM9 17H7v-7h2v7zm4 0h-2V7h2v10zm4 0h-2v-4h2v4z\"/>\n",
              "    </g>\n",
              "</svg>\n",
              "      </button>\n",
              "    </div>\n",
              "\n",
              "<style>\n",
              "  .colab-df-quickchart {\n",
              "    background-color: #E8F0FE;\n",
              "    border: none;\n",
              "    border-radius: 50%;\n",
              "    cursor: pointer;\n",
              "    display: none;\n",
              "    fill: #1967D2;\n",
              "    height: 32px;\n",
              "    padding: 0 0 0 0;\n",
              "    width: 32px;\n",
              "  }\n",
              "\n",
              "  .colab-df-quickchart:hover {\n",
              "    background-color: #E2EBFA;\n",
              "    box-shadow: 0px 1px 2px rgba(60, 64, 67, 0.3), 0px 1px 3px 1px rgba(60, 64, 67, 0.15);\n",
              "    fill: #174EA6;\n",
              "  }\n",
              "\n",
              "  [theme=dark] .colab-df-quickchart {\n",
              "    background-color: #3B4455;\n",
              "    fill: #D2E3FC;\n",
              "  }\n",
              "\n",
              "  [theme=dark] .colab-df-quickchart:hover {\n",
              "    background-color: #434B5C;\n",
              "    box-shadow: 0px 1px 3px 1px rgba(0, 0, 0, 0.15);\n",
              "    filter: drop-shadow(0px 1px 2px rgba(0, 0, 0, 0.3));\n",
              "    fill: #FFFFFF;\n",
              "  }\n",
              "</style>\n",
              "\n",
              "    <script>\n",
              "      async function quickchart(key) {\n",
              "        const containerElement = document.querySelector('#' + key);\n",
              "        const charts = await google.colab.kernel.invokeFunction(\n",
              "            'suggestCharts', [key], {});\n",
              "      }\n",
              "    </script>\n",
              "\n",
              "      <script>\n",
              "\n",
              "function displayQuickchartButton(domScope) {\n",
              "  let quickchartButtonEl =\n",
              "    domScope.querySelector('#df-73540ee5-5da4-4f55-ad15-2401d82f572c button.colab-df-quickchart');\n",
              "  quickchartButtonEl.style.display =\n",
              "    google.colab.kernel.accessAllowed ? 'block' : 'none';\n",
              "}\n",
              "\n",
              "        displayQuickchartButton(document);\n",
              "      </script>\n",
              "      <style>\n",
              "    .colab-df-container {\n",
              "      display:flex;\n",
              "      flex-wrap:wrap;\n",
              "      gap: 12px;\n",
              "    }\n",
              "\n",
              "    .colab-df-convert {\n",
              "      background-color: #E8F0FE;\n",
              "      border: none;\n",
              "      border-radius: 50%;\n",
              "      cursor: pointer;\n",
              "      display: none;\n",
              "      fill: #1967D2;\n",
              "      height: 32px;\n",
              "      padding: 0 0 0 0;\n",
              "      width: 32px;\n",
              "    }\n",
              "\n",
              "    .colab-df-convert:hover {\n",
              "      background-color: #E2EBFA;\n",
              "      box-shadow: 0px 1px 2px rgba(60, 64, 67, 0.3), 0px 1px 3px 1px rgba(60, 64, 67, 0.15);\n",
              "      fill: #174EA6;\n",
              "    }\n",
              "\n",
              "    [theme=dark] .colab-df-convert {\n",
              "      background-color: #3B4455;\n",
              "      fill: #D2E3FC;\n",
              "    }\n",
              "\n",
              "    [theme=dark] .colab-df-convert:hover {\n",
              "      background-color: #434B5C;\n",
              "      box-shadow: 0px 1px 3px 1px rgba(0, 0, 0, 0.15);\n",
              "      filter: drop-shadow(0px 1px 2px rgba(0, 0, 0, 0.3));\n",
              "      fill: #FFFFFF;\n",
              "    }\n",
              "  </style>\n",
              "\n",
              "      <script>\n",
              "        const buttonEl =\n",
              "          document.querySelector('#df-0be60555-fef2-487f-9ca8-e3b0d4a4d9b3 button.colab-df-convert');\n",
              "        buttonEl.style.display =\n",
              "          google.colab.kernel.accessAllowed ? 'block' : 'none';\n",
              "\n",
              "        async function convertToInteractive(key) {\n",
              "          const element = document.querySelector('#df-0be60555-fef2-487f-9ca8-e3b0d4a4d9b3');\n",
              "          const dataTable =\n",
              "            await google.colab.kernel.invokeFunction('convertToInteractive',\n",
              "                                                     [key], {});\n",
              "          if (!dataTable) return;\n",
              "\n",
              "          const docLinkHtml = 'Like what you see? Visit the ' +\n",
              "            '<a target=\"_blank\" href=https://colab.research.google.com/notebooks/data_table.ipynb>data table notebook</a>'\n",
              "            + ' to learn more about interactive tables.';\n",
              "          element.innerHTML = '';\n",
              "          dataTable['output_type'] = 'display_data';\n",
              "          await google.colab.output.renderOutput(dataTable, element);\n",
              "          const docLink = document.createElement('div');\n",
              "          docLink.innerHTML = docLinkHtml;\n",
              "          element.appendChild(docLink);\n",
              "        }\n",
              "      </script>\n",
              "    </div>\n",
              "  </div>\n"
            ]
          },
          "metadata": {},
          "execution_count": 13
        }
      ],
      "source": [
        "df = pd.read_csv(data_url+\"data/scores.csv\")\n",
        "df"
      ]
    },
    {
      "cell_type": "markdown",
      "metadata": {
        "editable": true,
        "tags": [],
        "id": "bzizybLTgEbq"
      },
      "source": [
        "# Selecting Data\n",
        "\n",
        "- \"What were everyone's `math` scores?\"\n",
        "- \"What did student `5a12` get on all subjects?\"\n",
        "- \"What did `5a12` and `5e04` get on `history` and `art`?\""
      ]
    },
    {
      "cell_type": "markdown",
      "metadata": {
        "editable": true,
        "tags": [],
        "id": "VNNaDHFUgEbr"
      },
      "source": [
        "## Columns and Index\n",
        "\n",
        "- Entries indexed by columns and rows"
      ]
    },
    {
      "cell_type": "code",
      "execution_count": 17,
      "metadata": {
        "editable": true,
        "tags": [],
        "id": "-xs4XKc7gEbr",
        "outputId": "9de4fdd1-a6a6-4a24-dc8c-1624b66847ac",
        "colab": {
          "base_uri": "https://localhost:8080/",
          "height": 206
        }
      },
      "outputs": [
        {
          "output_type": "execute_result",
          "data": {
            "text/plain": [
              "  student_id  math  english  history  biology  art\n",
              "0       5a01    95       97       80       81   86\n",
              "1       5a12    78       91       89       86   81\n",
              "2       5b05    85       86       94       88   82\n",
              "3       5b10    90       89       87       99   91\n",
              "4       5e04    88       90       85       88   84"
            ],
            "text/html": [
              "\n",
              "\n",
              "  <div id=\"df-0ad9ec9a-469f-4210-af69-b159eb7a1fe2\">\n",
              "    <div class=\"colab-df-container\">\n",
              "      <div>\n",
              "<style scoped>\n",
              "    .dataframe tbody tr th:only-of-type {\n",
              "        vertical-align: middle;\n",
              "    }\n",
              "\n",
              "    .dataframe tbody tr th {\n",
              "        vertical-align: top;\n",
              "    }\n",
              "\n",
              "    .dataframe thead th {\n",
              "        text-align: right;\n",
              "    }\n",
              "</style>\n",
              "<table border=\"1\" class=\"dataframe\">\n",
              "  <thead>\n",
              "    <tr style=\"text-align: right;\">\n",
              "      <th></th>\n",
              "      <th>student_id</th>\n",
              "      <th>math</th>\n",
              "      <th>english</th>\n",
              "      <th>history</th>\n",
              "      <th>biology</th>\n",
              "      <th>art</th>\n",
              "    </tr>\n",
              "  </thead>\n",
              "  <tbody>\n",
              "    <tr>\n",
              "      <th>0</th>\n",
              "      <td>5a01</td>\n",
              "      <td>95</td>\n",
              "      <td>97</td>\n",
              "      <td>80</td>\n",
              "      <td>81</td>\n",
              "      <td>86</td>\n",
              "    </tr>\n",
              "    <tr>\n",
              "      <th>1</th>\n",
              "      <td>5a12</td>\n",
              "      <td>78</td>\n",
              "      <td>91</td>\n",
              "      <td>89</td>\n",
              "      <td>86</td>\n",
              "      <td>81</td>\n",
              "    </tr>\n",
              "    <tr>\n",
              "      <th>2</th>\n",
              "      <td>5b05</td>\n",
              "      <td>85</td>\n",
              "      <td>86</td>\n",
              "      <td>94</td>\n",
              "      <td>88</td>\n",
              "      <td>82</td>\n",
              "    </tr>\n",
              "    <tr>\n",
              "      <th>3</th>\n",
              "      <td>5b10</td>\n",
              "      <td>90</td>\n",
              "      <td>89</td>\n",
              "      <td>87</td>\n",
              "      <td>99</td>\n",
              "      <td>91</td>\n",
              "    </tr>\n",
              "    <tr>\n",
              "      <th>4</th>\n",
              "      <td>5e04</td>\n",
              "      <td>88</td>\n",
              "      <td>90</td>\n",
              "      <td>85</td>\n",
              "      <td>88</td>\n",
              "      <td>84</td>\n",
              "    </tr>\n",
              "  </tbody>\n",
              "</table>\n",
              "</div>\n",
              "      <button class=\"colab-df-convert\" onclick=\"convertToInteractive('df-0ad9ec9a-469f-4210-af69-b159eb7a1fe2')\"\n",
              "              title=\"Convert this dataframe to an interactive table.\"\n",
              "              style=\"display:none;\">\n",
              "\n",
              "  <svg xmlns=\"http://www.w3.org/2000/svg\" height=\"24px\"viewBox=\"0 0 24 24\"\n",
              "       width=\"24px\">\n",
              "    <path d=\"M0 0h24v24H0V0z\" fill=\"none\"/>\n",
              "    <path d=\"M18.56 5.44l.94 2.06.94-2.06 2.06-.94-2.06-.94-.94-2.06-.94 2.06-2.06.94zm-11 1L8.5 8.5l.94-2.06 2.06-.94-2.06-.94L8.5 2.5l-.94 2.06-2.06.94zm10 10l.94 2.06.94-2.06 2.06-.94-2.06-.94-.94-2.06-.94 2.06-2.06.94z\"/><path d=\"M17.41 7.96l-1.37-1.37c-.4-.4-.92-.59-1.43-.59-.52 0-1.04.2-1.43.59L10.3 9.45l-7.72 7.72c-.78.78-.78 2.05 0 2.83L4 21.41c.39.39.9.59 1.41.59.51 0 1.02-.2 1.41-.59l7.78-7.78 2.81-2.81c.8-.78.8-2.07 0-2.86zM5.41 20L4 18.59l7.72-7.72 1.47 1.35L5.41 20z\"/>\n",
              "  </svg>\n",
              "      </button>\n",
              "\n",
              "\n",
              "\n",
              "    <div id=\"df-30f7340e-9c48-4f6a-bea0-3bbe55bc6e3e\">\n",
              "      <button class=\"colab-df-quickchart\" onclick=\"quickchart('df-30f7340e-9c48-4f6a-bea0-3bbe55bc6e3e')\"\n",
              "              title=\"Suggest charts.\"\n",
              "              style=\"display:none;\">\n",
              "\n",
              "<svg xmlns=\"http://www.w3.org/2000/svg\" height=\"24px\"viewBox=\"0 0 24 24\"\n",
              "     width=\"24px\">\n",
              "    <g>\n",
              "        <path d=\"M19 3H5c-1.1 0-2 .9-2 2v14c0 1.1.9 2 2 2h14c1.1 0 2-.9 2-2V5c0-1.1-.9-2-2-2zM9 17H7v-7h2v7zm4 0h-2V7h2v10zm4 0h-2v-4h2v4z\"/>\n",
              "    </g>\n",
              "</svg>\n",
              "      </button>\n",
              "    </div>\n",
              "\n",
              "<style>\n",
              "  .colab-df-quickchart {\n",
              "    background-color: #E8F0FE;\n",
              "    border: none;\n",
              "    border-radius: 50%;\n",
              "    cursor: pointer;\n",
              "    display: none;\n",
              "    fill: #1967D2;\n",
              "    height: 32px;\n",
              "    padding: 0 0 0 0;\n",
              "    width: 32px;\n",
              "  }\n",
              "\n",
              "  .colab-df-quickchart:hover {\n",
              "    background-color: #E2EBFA;\n",
              "    box-shadow: 0px 1px 2px rgba(60, 64, 67, 0.3), 0px 1px 3px 1px rgba(60, 64, 67, 0.15);\n",
              "    fill: #174EA6;\n",
              "  }\n",
              "\n",
              "  [theme=dark] .colab-df-quickchart {\n",
              "    background-color: #3B4455;\n",
              "    fill: #D2E3FC;\n",
              "  }\n",
              "\n",
              "  [theme=dark] .colab-df-quickchart:hover {\n",
              "    background-color: #434B5C;\n",
              "    box-shadow: 0px 1px 3px 1px rgba(0, 0, 0, 0.15);\n",
              "    filter: drop-shadow(0px 1px 2px rgba(0, 0, 0, 0.3));\n",
              "    fill: #FFFFFF;\n",
              "  }\n",
              "</style>\n",
              "\n",
              "    <script>\n",
              "      async function quickchart(key) {\n",
              "        const containerElement = document.querySelector('#' + key);\n",
              "        const charts = await google.colab.kernel.invokeFunction(\n",
              "            'suggestCharts', [key], {});\n",
              "      }\n",
              "    </script>\n",
              "\n",
              "      <script>\n",
              "\n",
              "function displayQuickchartButton(domScope) {\n",
              "  let quickchartButtonEl =\n",
              "    domScope.querySelector('#df-30f7340e-9c48-4f6a-bea0-3bbe55bc6e3e button.colab-df-quickchart');\n",
              "  quickchartButtonEl.style.display =\n",
              "    google.colab.kernel.accessAllowed ? 'block' : 'none';\n",
              "}\n",
              "\n",
              "        displayQuickchartButton(document);\n",
              "      </script>\n",
              "      <style>\n",
              "    .colab-df-container {\n",
              "      display:flex;\n",
              "      flex-wrap:wrap;\n",
              "      gap: 12px;\n",
              "    }\n",
              "\n",
              "    .colab-df-convert {\n",
              "      background-color: #E8F0FE;\n",
              "      border: none;\n",
              "      border-radius: 50%;\n",
              "      cursor: pointer;\n",
              "      display: none;\n",
              "      fill: #1967D2;\n",
              "      height: 32px;\n",
              "      padding: 0 0 0 0;\n",
              "      width: 32px;\n",
              "    }\n",
              "\n",
              "    .colab-df-convert:hover {\n",
              "      background-color: #E2EBFA;\n",
              "      box-shadow: 0px 1px 2px rgba(60, 64, 67, 0.3), 0px 1px 3px 1px rgba(60, 64, 67, 0.15);\n",
              "      fill: #174EA6;\n",
              "    }\n",
              "\n",
              "    [theme=dark] .colab-df-convert {\n",
              "      background-color: #3B4455;\n",
              "      fill: #D2E3FC;\n",
              "    }\n",
              "\n",
              "    [theme=dark] .colab-df-convert:hover {\n",
              "      background-color: #434B5C;\n",
              "      box-shadow: 0px 1px 3px 1px rgba(0, 0, 0, 0.15);\n",
              "      filter: drop-shadow(0px 1px 2px rgba(0, 0, 0, 0.3));\n",
              "      fill: #FFFFFF;\n",
              "    }\n",
              "  </style>\n",
              "\n",
              "      <script>\n",
              "        const buttonEl =\n",
              "          document.querySelector('#df-0ad9ec9a-469f-4210-af69-b159eb7a1fe2 button.colab-df-convert');\n",
              "        buttonEl.style.display =\n",
              "          google.colab.kernel.accessAllowed ? 'block' : 'none';\n",
              "\n",
              "        async function convertToInteractive(key) {\n",
              "          const element = document.querySelector('#df-0ad9ec9a-469f-4210-af69-b159eb7a1fe2');\n",
              "          const dataTable =\n",
              "            await google.colab.kernel.invokeFunction('convertToInteractive',\n",
              "                                                     [key], {});\n",
              "          if (!dataTable) return;\n",
              "\n",
              "          const docLinkHtml = 'Like what you see? Visit the ' +\n",
              "            '<a target=\"_blank\" href=https://colab.research.google.com/notebooks/data_table.ipynb>data table notebook</a>'\n",
              "            + ' to learn more about interactive tables.';\n",
              "          element.innerHTML = '';\n",
              "          dataTable['output_type'] = 'display_data';\n",
              "          await google.colab.output.renderOutput(dataTable, element);\n",
              "          const docLink = document.createElement('div');\n",
              "          docLink.innerHTML = docLinkHtml;\n",
              "          element.appendChild(docLink);\n",
              "        }\n",
              "      </script>\n",
              "    </div>\n",
              "  </div>\n"
            ]
          },
          "metadata": {},
          "execution_count": 17
        }
      ],
      "source": [
        "df"
      ]
    },
    {
      "cell_type": "markdown",
      "metadata": {
        "editable": true,
        "tags": [],
        "id": "xFxKt21QgEbr"
      },
      "source": [
        "## `df.columns` and `df.index`\n",
        "\n",
        "- These can be accessed through following:\n"
      ]
    },
    {
      "cell_type": "code",
      "execution_count": 18,
      "metadata": {
        "editable": true,
        "output-location": "column-fragment",
        "tags": [],
        "id": "rySis_nPgEbr",
        "outputId": "01dae123-c937-4892-c926-e04e51a05709",
        "colab": {
          "base_uri": "https://localhost:8080/"
        }
      },
      "outputs": [
        {
          "output_type": "execute_result",
          "data": {
            "text/plain": [
              "Index(['student_id', 'math', 'english', 'history', 'biology', 'art'], dtype='object')"
            ]
          },
          "metadata": {},
          "execution_count": 18
        }
      ],
      "source": [
        "df.columns"
      ]
    },
    {
      "cell_type": "code",
      "execution_count": 19,
      "metadata": {
        "editable": true,
        "output-location": "column-fragment",
        "tags": [],
        "id": "wcEFvdcWgEbr",
        "outputId": "bc10f952-f0d2-4a36-e86a-7d0e6bfd78de",
        "colab": {
          "base_uri": "https://localhost:8080/"
        }
      },
      "outputs": [
        {
          "output_type": "execute_result",
          "data": {
            "text/plain": [
              "RangeIndex(start=0, stop=5, step=1)"
            ]
          },
          "metadata": {},
          "execution_count": 19
        }
      ],
      "source": [
        "df.index"
      ]
    },
    {
      "cell_type": "markdown",
      "metadata": {
        "editable": true,
        "tags": [],
        "id": "q8c7LXdbgEbr"
      },
      "source": [
        "- By default dataframes have a numerical index."
      ]
    },
    {
      "cell_type": "markdown",
      "metadata": {
        "editable": true,
        "tags": [],
        "id": "vZVjccSsgEbr"
      },
      "source": [
        "## Setting the Index\n",
        "\n",
        "- `df.set_index()` returns dataframe with new index"
      ]
    },
    {
      "cell_type": "code",
      "execution_count": 20,
      "metadata": {
        "editable": true,
        "output-location": "column-fragment",
        "tags": [],
        "id": "P_fk_AqPgEbz",
        "outputId": "26166e33-7ad4-43fa-b28c-d914198af669",
        "colab": {
          "base_uri": "https://localhost:8080/"
        }
      },
      "outputs": [
        {
          "output_type": "execute_result",
          "data": {
            "text/plain": [
              "Index(['5a01', '5a12', '5b05', '5b10', '5e04'], dtype='object', name='student_id')"
            ]
          },
          "metadata": {},
          "execution_count": 20
        }
      ],
      "source": [
        "df = df.set_index('student_id')\n",
        "df.index"
      ]
    },
    {
      "cell_type": "code",
      "execution_count": 21,
      "metadata": {
        "editable": true,
        "output-location": "column-fragment",
        "tags": [],
        "id": "JwHYT-3_gEbz",
        "outputId": "ddd7a2d3-a7a6-478d-bb51-bf8fc9392779",
        "colab": {
          "base_uri": "https://localhost:8080/",
          "height": 238
        }
      },
      "outputs": [
        {
          "output_type": "execute_result",
          "data": {
            "text/plain": [
              "            math  english  history  biology  art\n",
              "student_id                                      \n",
              "5a01          95       97       80       81   86\n",
              "5a12          78       91       89       86   81\n",
              "5b05          85       86       94       88   82\n",
              "5b10          90       89       87       99   91\n",
              "5e04          88       90       85       88   84"
            ],
            "text/html": [
              "\n",
              "\n",
              "  <div id=\"df-9f2a9856-cd3c-40e2-9293-88fa7864736e\">\n",
              "    <div class=\"colab-df-container\">\n",
              "      <div>\n",
              "<style scoped>\n",
              "    .dataframe tbody tr th:only-of-type {\n",
              "        vertical-align: middle;\n",
              "    }\n",
              "\n",
              "    .dataframe tbody tr th {\n",
              "        vertical-align: top;\n",
              "    }\n",
              "\n",
              "    .dataframe thead th {\n",
              "        text-align: right;\n",
              "    }\n",
              "</style>\n",
              "<table border=\"1\" class=\"dataframe\">\n",
              "  <thead>\n",
              "    <tr style=\"text-align: right;\">\n",
              "      <th></th>\n",
              "      <th>math</th>\n",
              "      <th>english</th>\n",
              "      <th>history</th>\n",
              "      <th>biology</th>\n",
              "      <th>art</th>\n",
              "    </tr>\n",
              "    <tr>\n",
              "      <th>student_id</th>\n",
              "      <th></th>\n",
              "      <th></th>\n",
              "      <th></th>\n",
              "      <th></th>\n",
              "      <th></th>\n",
              "    </tr>\n",
              "  </thead>\n",
              "  <tbody>\n",
              "    <tr>\n",
              "      <th>5a01</th>\n",
              "      <td>95</td>\n",
              "      <td>97</td>\n",
              "      <td>80</td>\n",
              "      <td>81</td>\n",
              "      <td>86</td>\n",
              "    </tr>\n",
              "    <tr>\n",
              "      <th>5a12</th>\n",
              "      <td>78</td>\n",
              "      <td>91</td>\n",
              "      <td>89</td>\n",
              "      <td>86</td>\n",
              "      <td>81</td>\n",
              "    </tr>\n",
              "    <tr>\n",
              "      <th>5b05</th>\n",
              "      <td>85</td>\n",
              "      <td>86</td>\n",
              "      <td>94</td>\n",
              "      <td>88</td>\n",
              "      <td>82</td>\n",
              "    </tr>\n",
              "    <tr>\n",
              "      <th>5b10</th>\n",
              "      <td>90</td>\n",
              "      <td>89</td>\n",
              "      <td>87</td>\n",
              "      <td>99</td>\n",
              "      <td>91</td>\n",
              "    </tr>\n",
              "    <tr>\n",
              "      <th>5e04</th>\n",
              "      <td>88</td>\n",
              "      <td>90</td>\n",
              "      <td>85</td>\n",
              "      <td>88</td>\n",
              "      <td>84</td>\n",
              "    </tr>\n",
              "  </tbody>\n",
              "</table>\n",
              "</div>\n",
              "      <button class=\"colab-df-convert\" onclick=\"convertToInteractive('df-9f2a9856-cd3c-40e2-9293-88fa7864736e')\"\n",
              "              title=\"Convert this dataframe to an interactive table.\"\n",
              "              style=\"display:none;\">\n",
              "\n",
              "  <svg xmlns=\"http://www.w3.org/2000/svg\" height=\"24px\"viewBox=\"0 0 24 24\"\n",
              "       width=\"24px\">\n",
              "    <path d=\"M0 0h24v24H0V0z\" fill=\"none\"/>\n",
              "    <path d=\"M18.56 5.44l.94 2.06.94-2.06 2.06-.94-2.06-.94-.94-2.06-.94 2.06-2.06.94zm-11 1L8.5 8.5l.94-2.06 2.06-.94-2.06-.94L8.5 2.5l-.94 2.06-2.06.94zm10 10l.94 2.06.94-2.06 2.06-.94-2.06-.94-.94-2.06-.94 2.06-2.06.94z\"/><path d=\"M17.41 7.96l-1.37-1.37c-.4-.4-.92-.59-1.43-.59-.52 0-1.04.2-1.43.59L10.3 9.45l-7.72 7.72c-.78.78-.78 2.05 0 2.83L4 21.41c.39.39.9.59 1.41.59.51 0 1.02-.2 1.41-.59l7.78-7.78 2.81-2.81c.8-.78.8-2.07 0-2.86zM5.41 20L4 18.59l7.72-7.72 1.47 1.35L5.41 20z\"/>\n",
              "  </svg>\n",
              "      </button>\n",
              "\n",
              "\n",
              "\n",
              "    <div id=\"df-a4c2d03b-5971-4b8b-8be8-f3013597e0d4\">\n",
              "      <button class=\"colab-df-quickchart\" onclick=\"quickchart('df-a4c2d03b-5971-4b8b-8be8-f3013597e0d4')\"\n",
              "              title=\"Suggest charts.\"\n",
              "              style=\"display:none;\">\n",
              "\n",
              "<svg xmlns=\"http://www.w3.org/2000/svg\" height=\"24px\"viewBox=\"0 0 24 24\"\n",
              "     width=\"24px\">\n",
              "    <g>\n",
              "        <path d=\"M19 3H5c-1.1 0-2 .9-2 2v14c0 1.1.9 2 2 2h14c1.1 0 2-.9 2-2V5c0-1.1-.9-2-2-2zM9 17H7v-7h2v7zm4 0h-2V7h2v10zm4 0h-2v-4h2v4z\"/>\n",
              "    </g>\n",
              "</svg>\n",
              "      </button>\n",
              "    </div>\n",
              "\n",
              "<style>\n",
              "  .colab-df-quickchart {\n",
              "    background-color: #E8F0FE;\n",
              "    border: none;\n",
              "    border-radius: 50%;\n",
              "    cursor: pointer;\n",
              "    display: none;\n",
              "    fill: #1967D2;\n",
              "    height: 32px;\n",
              "    padding: 0 0 0 0;\n",
              "    width: 32px;\n",
              "  }\n",
              "\n",
              "  .colab-df-quickchart:hover {\n",
              "    background-color: #E2EBFA;\n",
              "    box-shadow: 0px 1px 2px rgba(60, 64, 67, 0.3), 0px 1px 3px 1px rgba(60, 64, 67, 0.15);\n",
              "    fill: #174EA6;\n",
              "  }\n",
              "\n",
              "  [theme=dark] .colab-df-quickchart {\n",
              "    background-color: #3B4455;\n",
              "    fill: #D2E3FC;\n",
              "  }\n",
              "\n",
              "  [theme=dark] .colab-df-quickchart:hover {\n",
              "    background-color: #434B5C;\n",
              "    box-shadow: 0px 1px 3px 1px rgba(0, 0, 0, 0.15);\n",
              "    filter: drop-shadow(0px 1px 2px rgba(0, 0, 0, 0.3));\n",
              "    fill: #FFFFFF;\n",
              "  }\n",
              "</style>\n",
              "\n",
              "    <script>\n",
              "      async function quickchart(key) {\n",
              "        const containerElement = document.querySelector('#' + key);\n",
              "        const charts = await google.colab.kernel.invokeFunction(\n",
              "            'suggestCharts', [key], {});\n",
              "      }\n",
              "    </script>\n",
              "\n",
              "      <script>\n",
              "\n",
              "function displayQuickchartButton(domScope) {\n",
              "  let quickchartButtonEl =\n",
              "    domScope.querySelector('#df-a4c2d03b-5971-4b8b-8be8-f3013597e0d4 button.colab-df-quickchart');\n",
              "  quickchartButtonEl.style.display =\n",
              "    google.colab.kernel.accessAllowed ? 'block' : 'none';\n",
              "}\n",
              "\n",
              "        displayQuickchartButton(document);\n",
              "      </script>\n",
              "      <style>\n",
              "    .colab-df-container {\n",
              "      display:flex;\n",
              "      flex-wrap:wrap;\n",
              "      gap: 12px;\n",
              "    }\n",
              "\n",
              "    .colab-df-convert {\n",
              "      background-color: #E8F0FE;\n",
              "      border: none;\n",
              "      border-radius: 50%;\n",
              "      cursor: pointer;\n",
              "      display: none;\n",
              "      fill: #1967D2;\n",
              "      height: 32px;\n",
              "      padding: 0 0 0 0;\n",
              "      width: 32px;\n",
              "    }\n",
              "\n",
              "    .colab-df-convert:hover {\n",
              "      background-color: #E2EBFA;\n",
              "      box-shadow: 0px 1px 2px rgba(60, 64, 67, 0.3), 0px 1px 3px 1px rgba(60, 64, 67, 0.15);\n",
              "      fill: #174EA6;\n",
              "    }\n",
              "\n",
              "    [theme=dark] .colab-df-convert {\n",
              "      background-color: #3B4455;\n",
              "      fill: #D2E3FC;\n",
              "    }\n",
              "\n",
              "    [theme=dark] .colab-df-convert:hover {\n",
              "      background-color: #434B5C;\n",
              "      box-shadow: 0px 1px 3px 1px rgba(0, 0, 0, 0.15);\n",
              "      filter: drop-shadow(0px 1px 2px rgba(0, 0, 0, 0.3));\n",
              "      fill: #FFFFFF;\n",
              "    }\n",
              "  </style>\n",
              "\n",
              "      <script>\n",
              "        const buttonEl =\n",
              "          document.querySelector('#df-9f2a9856-cd3c-40e2-9293-88fa7864736e button.colab-df-convert');\n",
              "        buttonEl.style.display =\n",
              "          google.colab.kernel.accessAllowed ? 'block' : 'none';\n",
              "\n",
              "        async function convertToInteractive(key) {\n",
              "          const element = document.querySelector('#df-9f2a9856-cd3c-40e2-9293-88fa7864736e');\n",
              "          const dataTable =\n",
              "            await google.colab.kernel.invokeFunction('convertToInteractive',\n",
              "                                                     [key], {});\n",
              "          if (!dataTable) return;\n",
              "\n",
              "          const docLinkHtml = 'Like what you see? Visit the ' +\n",
              "            '<a target=\"_blank\" href=https://colab.research.google.com/notebooks/data_table.ipynb>data table notebook</a>'\n",
              "            + ' to learn more about interactive tables.';\n",
              "          element.innerHTML = '';\n",
              "          dataTable['output_type'] = 'display_data';\n",
              "          await google.colab.output.renderOutput(dataTable, element);\n",
              "          const docLink = document.createElement('div');\n",
              "          docLink.innerHTML = docLinkHtml;\n",
              "          element.appendChild(docLink);\n",
              "        }\n",
              "      </script>\n",
              "    </div>\n",
              "  </div>\n"
            ]
          },
          "metadata": {},
          "execution_count": 21
        }
      ],
      "source": [
        "df"
      ]
    },
    {
      "cell_type": "markdown",
      "metadata": {
        "editable": true,
        "tags": [],
        "id": "Tw_S24adgEbz"
      },
      "source": [
        "## `.loc`\n",
        "\n",
        "- Use `.loc` for name-based indexing.\n",
        "- General syntax: `.loc[<INDEX>, <COLS>]`\n",
        "\t- `<INDEX>` and `<COLS>` correspond to the index and column names.\n",
        "\t- They can be a single value, a list, or `:` to indicate \"all\".\n",
        "- Let's learn by example:"
      ]
    },
    {
      "cell_type": "markdown",
      "metadata": {
        "editable": true,
        "tags": [],
        "id": "3h0cFhBAgEb0"
      },
      "source": [
        "## Row\n",
        "\n",
        "- \"What did `5a01` get on all (`:`) exams?\""
      ]
    },
    {
      "cell_type": "code",
      "execution_count": null,
      "metadata": {
        "editable": true,
        "output-location": "default",
        "tags": [],
        "id": "r7dI9fYkgEb0"
      },
      "outputs": [],
      "source": [
        "df.loc['5a01', :]"
      ]
    },
    {
      "cell_type": "code",
      "execution_count": null,
      "metadata": {
        "editable": true,
        "output-location": "default",
        "tags": [],
        "id": "evNqYoEqgEb0"
      },
      "outputs": [],
      "source": [
        "from IPython.display import HTML\n",
        "HTML(data_url+\"figures/pandas_loc_row.html\")"
      ]
    },
    {
      "cell_type": "markdown",
      "metadata": {
        "editable": true,
        "tags": [],
        "id": "oFB9a7LHgEb0"
      },
      "source": [
        "## Column\n",
        "\n",
        "- \"What did everyone (`:`) get on `history`?\""
      ]
    },
    {
      "cell_type": "code",
      "execution_count": null,
      "metadata": {
        "editable": true,
        "output-location": "default",
        "tags": [],
        "id": "onZwSwsLgEb0"
      },
      "outputs": [],
      "source": [
        "df.loc[:, 'history']"
      ]
    },
    {
      "cell_type": "code",
      "execution_count": null,
      "metadata": {
        "editable": true,
        "output-location": "default",
        "tags": [],
        "id": "4GsS2auwgEb0"
      },
      "outputs": [],
      "source": [
        "HTML(data_url+\"figures/pandas_loc_col.html\")"
      ]
    },
    {
      "cell_type": "markdown",
      "metadata": {
        "editable": true,
        "tags": [],
        "id": "bW3VCMKYgEb0"
      },
      "source": [
        "## Multiple Rows\n",
        "\n",
        "- \"What did `5a01` and `5a12` (`['5a01', '5a12']`) get on all (`:`) exams?\"\n",
        "\n"
      ]
    },
    {
      "cell_type": "code",
      "execution_count": null,
      "metadata": {
        "editable": true,
        "output-location": "default",
        "tags": [],
        "id": "C3MIdCCxgEb1"
      },
      "outputs": [],
      "source": [
        "df.loc[['5a01', '5a12'], :]"
      ]
    },
    {
      "cell_type": "code",
      "execution_count": null,
      "metadata": {
        "editable": true,
        "output-location": "default",
        "tags": [],
        "id": "KA-wTQjIgEb1"
      },
      "outputs": [],
      "source": [
        "HTML(data_url+\"figures/pandas_loc_multi_row.html\")"
      ]
    },
    {
      "cell_type": "markdown",
      "metadata": {
        "editable": true,
        "tags": [],
        "id": "yQnzB946gEb1"
      },
      "source": [
        "## Multiple Columns\n",
        "\n",
        "- What did everyone (`:`) get on `art` and `history` (`['art', 'history']`)?\n",
        "\n"
      ]
    },
    {
      "cell_type": "code",
      "execution_count": null,
      "metadata": {
        "editable": true,
        "output-location": "default",
        "tags": [],
        "id": "qHZvZqs6gEb1"
      },
      "outputs": [],
      "source": [
        "df.loc[:, ['art', 'history']]"
      ]
    },
    {
      "cell_type": "code",
      "execution_count": null,
      "metadata": {
        "editable": true,
        "output-location": "default",
        "tags": [],
        "id": "L-J3B7tugEb1"
      },
      "outputs": [],
      "source": [
        "HTML(data_url+\"figures/pandas_loc_multi_col.html\")"
      ]
    },
    {
      "cell_type": "markdown",
      "metadata": {
        "editable": true,
        "tags": [],
        "id": "tjQMYXQMgEb1"
      },
      "source": [
        "## Label Order\n",
        "\n",
        "Note the order of labels changes the order of columns:\n",
        "\n"
      ]
    },
    {
      "cell_type": "code",
      "execution_count": null,
      "metadata": {
        "editable": true,
        "tags": [],
        "id": "J2_Ke0SfgEb1"
      },
      "outputs": [],
      "source": [
        "df.loc[:, ['art', 'history']]"
      ]
    },
    {
      "cell_type": "markdown",
      "metadata": {
        "editable": true,
        "tags": [],
        "id": "6ztikP66gEb2"
      },
      "source": [
        "## Cell\n",
        "\n",
        "- What did `5a01` get in `history`?\n",
        "\n"
      ]
    },
    {
      "cell_type": "code",
      "execution_count": null,
      "metadata": {
        "editable": true,
        "output-location": "default",
        "tags": [],
        "id": "_p15C3aLgEb2"
      },
      "outputs": [],
      "source": [
        "df.loc['5a01', 'history']"
      ]
    },
    {
      "cell_type": "code",
      "execution_count": null,
      "metadata": {
        "editable": true,
        "output-location": "default",
        "tags": [],
        "id": "QGYqMDZcgEb2"
      },
      "outputs": [],
      "source": [
        "HTML(data_url+\"figures/pandas_loc_cell.html\")"
      ]
    },
    {
      "cell_type": "markdown",
      "metadata": {
        "editable": true,
        "tags": [],
        "id": "fhtyweaQgEb2"
      },
      "source": [
        "## Multiple Values\n",
        "\n",
        "- What did `5a01` get in `history` and `art`?\n",
        "\n"
      ]
    },
    {
      "cell_type": "code",
      "execution_count": null,
      "metadata": {
        "editable": true,
        "output-location": "default",
        "tags": [],
        "id": "dGtwPyDKgEb4"
      },
      "outputs": [],
      "source": [
        "df.loc['5a12', ['history', 'art']]"
      ]
    },
    {
      "cell_type": "code",
      "execution_count": null,
      "metadata": {
        "editable": true,
        "output-location": "default",
        "tags": [],
        "id": "UZri1ySGgEb4"
      },
      "outputs": [],
      "source": [
        "HTML(data_url+\"figures/pandas_loc_multi1.html\")"
      ]
    },
    {
      "cell_type": "markdown",
      "metadata": {
        "editable": true,
        "tags": [],
        "id": "RbvxFAAbgEb4"
      },
      "source": [
        "## cont.\n",
        "\n",
        "- What did `5a01`, `5a12`, and `5b05` get in `biology` and `art`?\n",
        "\n"
      ]
    },
    {
      "cell_type": "code",
      "execution_count": null,
      "metadata": {
        "editable": true,
        "output-location": "default",
        "tags": [],
        "id": "ykBBHKjigEb4"
      },
      "outputs": [],
      "source": [
        "df.loc[['5a01', '5a12', '5b05'], ['biology', 'art']]"
      ]
    },
    {
      "cell_type": "code",
      "execution_count": null,
      "metadata": {
        "editable": true,
        "output-location": "default",
        "tags": [],
        "id": "8wnAzNAPgEb5"
      },
      "outputs": [],
      "source": [
        "HTML(data_url+\"figures/pandas_loc_multi2.html\")"
      ]
    },
    {
      "cell_type": "markdown",
      "metadata": {
        "editable": true,
        "tags": [],
        "id": "F6nGol3XgEb5"
      },
      "source": [
        "## Filtering\n",
        "\n",
        "\"The overall scores of students who got _90 or higher in math_\"\"\n",
        "\n",
        "- Create a _boolean array_\n",
        "\n"
      ]
    },
    {
      "cell_type": "code",
      "execution_count": null,
      "metadata": {
        "editable": true,
        "output-location": "column-fragment",
        "tags": [],
        "id": "ETrbQmaWgEb5"
      },
      "outputs": [],
      "source": [
        "df.loc[:, 'math'] >= 90"
      ]
    },
    {
      "cell_type": "markdown",
      "metadata": {
        "editable": true,
        "tags": [],
        "id": "k1E8gIjugEb5"
      },
      "source": [
        "## `.loc` Filtering\n",
        "\n",
        "- `.loc` can take boolean arrays:\n",
        "\n"
      ]
    },
    {
      "cell_type": "code",
      "execution_count": null,
      "metadata": {
        "editable": true,
        "tags": [],
        "id": "_dmV4YuzgEb6"
      },
      "outputs": [],
      "source": [
        "good_math = df.loc[:, 'math'] >= 90\n",
        "df.loc[good_math, :]"
      ]
    },
    {
      "cell_type": "markdown",
      "metadata": {
        "editable": true,
        "tags": [],
        "id": "q_erSBBCgEb6"
      },
      "source": [
        "- Shorter syntax:\n"
      ]
    },
    {
      "cell_type": "code",
      "execution_count": null,
      "metadata": {
        "editable": true,
        "tags": [],
        "id": "TXxfvCnCgEb6"
      },
      "outputs": [],
      "source": [
        "df.loc[df['math'].ge(90), :]"
      ]
    },
    {
      "cell_type": "markdown",
      "metadata": {
        "editable": true,
        "tags": [],
        "id": "gflVMYYzgEb6"
      },
      "source": [
        "## Combining Indexers and Filters\n",
        "\n",
        "- `history` scores where `math` and `art` $>=$ 85\n"
      ]
    },
    {
      "cell_type": "code",
      "execution_count": null,
      "metadata": {
        "editable": true,
        "tags": [],
        "id": "H_9dRsZTgEb6"
      },
      "outputs": [],
      "source": [
        "df.loc[(df.loc[:, 'math']>=85) &\n",
        "\t   (df.loc[:, 'art']>=85),\n",
        "\t   'history']"
      ]
    },
    {
      "cell_type": "markdown",
      "metadata": {
        "editable": true,
        "tags": [],
        "id": "AXNYrSghgEb7"
      },
      "source": [
        "## `.iloc`: locational indexing\n",
        "\n",
        "- First 2 rows (`:2` in Python)\n",
        "- Last 3 columns (`-3:`)\n"
      ]
    },
    {
      "cell_type": "code",
      "execution_count": null,
      "metadata": {
        "editable": true,
        "tags": [],
        "id": "GsAGqtqhgEb7"
      },
      "outputs": [],
      "source": [
        "df.iloc[:2, -3:]"
      ]
    },
    {
      "cell_type": "markdown",
      "metadata": {
        "editable": true,
        "tags": [],
        "id": "hRQaEsu9gEb7"
      },
      "source": [
        "# Operations\n",
        "\n",
        "- \"Is this score over 90?\"\n",
        "- \"What was the average `math` score?\"\n",
        "- \"What was `5b10`'s maximum score?\"\"\n",
        "- \"What was the lowest score in each exam?\""
      ]
    },
    {
      "cell_type": "markdown",
      "metadata": {
        "editable": true,
        "tags": [],
        "id": "Xh8qpiHvgEb7"
      },
      "source": [
        "## Some Terminology\n",
        "\n",
        "Clarifying what I mean in this lecture when I say:\n",
        "\n",
        "- _Scalar_: a single value\n",
        "- _Non-scalar_: a data structure capable of containing multiple data points\n",
        "- _Argument(s)_: the input(s) to a function"
      ]
    },
    {
      "cell_type": "markdown",
      "metadata": {
        "editable": true,
        "tags": [],
        "id": "Yxj7jTaUgEb7"
      },
      "source": [
        "## `Series` and `DataFrame`\n",
        "\n",
        "- `pd.Series` are 1-dimensional\n",
        "- `pd.DataFrame` are 2-dimensional"
      ]
    },
    {
      "cell_type": "markdown",
      "metadata": {
        "editable": true,
        "tags": [],
        "id": "a1G1_zrvgEb8"
      },
      "source": [
        "## `Series`\n",
        "\n",
        "- Passing a scalar to an indexer (`.loc`) on a `DataFrame` returns a `Series`"
      ]
    },
    {
      "cell_type": "code",
      "execution_count": null,
      "metadata": {
        "editable": true,
        "tags": [],
        "id": "O53ALo4lgEb8"
      },
      "outputs": [],
      "source": [
        "df.loc[:, 'biology']"
      ]
    },
    {
      "cell_type": "markdown",
      "metadata": {
        "editable": true,
        "tags": [],
        "id": "3fbQV6abgEb8"
      },
      "source": [
        "## `DataFrame`\n",
        "\n",
        "- Passing a `list` returns a `DataFrame`\n"
      ]
    },
    {
      "cell_type": "code",
      "execution_count": null,
      "metadata": {
        "editable": true,
        "tags": [],
        "id": "2Fp74TUJgEb8"
      },
      "outputs": [],
      "source": [
        "df.loc[:, ['biology']]"
      ]
    },
    {
      "cell_type": "markdown",
      "metadata": {
        "editable": true,
        "tags": [],
        "id": "lAsOpZYKgEb9"
      },
      "source": [
        "## Arguments at Three Levels\n",
        "\n",
        "- Scalar: \"Is this score over 90?\"\n"
      ]
    },
    {
      "cell_type": "code",
      "execution_count": null,
      "metadata": {
        "editable": true,
        "output-location": "default",
        "tags": [],
        "id": "8OJX5fI3gEb9"
      },
      "outputs": [],
      "source": [
        "def greater_than_90(x):\n",
        "\treturn x > 90"
      ]
    },
    {
      "cell_type": "markdown",
      "metadata": {
        "editable": true,
        "tags": [],
        "id": "yv3fo-kOgEb9"
      },
      "source": [
        "- Series: \"What is the maximum score on one exam?\"\n"
      ]
    },
    {
      "cell_type": "code",
      "execution_count": null,
      "metadata": {
        "editable": true,
        "output-location": "default",
        "tags": [],
        "id": "wr5eWE7tgEb9"
      },
      "outputs": [],
      "source": [
        "def maximum(scores):\n",
        "\treturn max(scores)"
      ]
    },
    {
      "cell_type": "markdown",
      "metadata": {
        "editable": true,
        "tags": [],
        "id": "KGN2xjnwgEb-"
      },
      "source": [
        "- Dataframe: \"How many individual scores?\"\n"
      ]
    },
    {
      "cell_type": "code",
      "execution_count": null,
      "metadata": {
        "editable": true,
        "output-location": "default",
        "tags": [],
        "id": "gxreduJ5gEb-"
      },
      "outputs": [],
      "source": [
        "def how_many_elements(df):\n",
        "\trows, cols = df.shape\n",
        "\treturn rows*cols"
      ]
    },
    {
      "cell_type": "markdown",
      "metadata": {
        "editable": true,
        "tags": [],
        "id": "9oMhDqHIgEb-"
      },
      "source": [
        "## Convenience Functions\n",
        "\n",
        "- `Series` and `DataFrame` objects have many common operations built-in:\n",
        "  - $\\ne$ (`.ne()`), $\\gt$ (`.gt()`), ...\n",
        "  - mean (`.mean()`), median (`.median()`), standard deviation (`.std()`), ...\n",
        "- These tend to be optimized.\n",
        "- See [documentation](https://pandas.pydata.org/docs/user_guide/basics.html#descriptive-statistics) for list."
      ]
    },
    {
      "cell_type": "markdown",
      "metadata": {
        "editable": true,
        "tags": [],
        "id": "eR32H3f6gEb-"
      },
      "source": [
        "## \"What was the average `math` score?\""
      ]
    },
    {
      "cell_type": "code",
      "execution_count": null,
      "metadata": {
        "editable": true,
        "tags": [],
        "id": "DbfpyKfngEb-"
      },
      "outputs": [],
      "source": [
        "df.loc[:, 'math'].mean()"
      ]
    },
    {
      "cell_type": "markdown",
      "metadata": {
        "editable": true,
        "tags": [],
        "id": "9LIcK0zxgEb_"
      },
      "source": [
        "## `apply` and `applymap`\n",
        "\n",
        "- Custom functions can be applied to `Series` and `DataFrame`s using their `.apply` method.\n",
        "- `pd.Series.apply`: functions with _scalar arguments_\n",
        "- `pd.DataFrame.apply`: functions with `pd.Series` as an argument\n",
        "\t- Specify `axis`: 0 is row-wise, 1 is column-wise\n",
        "- `pd.DataFrame.applymap`: functions with _scalar arguments_"
      ]
    },
    {
      "cell_type": "markdown",
      "metadata": {
        "editable": true,
        "tags": [],
        "id": "Xq6RbTVpgEb_"
      },
      "source": [
        "## \"What was the lowest score for each exam and student??\"\n",
        "\n",
        "- Lowest per exam (`axis=0`)"
      ]
    },
    {
      "cell_type": "code",
      "execution_count": null,
      "metadata": {
        "editable": true,
        "output-location": "column-fragment",
        "tags": [],
        "id": "xmoS_QqRgEb_"
      },
      "outputs": [],
      "source": [
        "df.min(axis=0)"
      ]
    },
    {
      "cell_type": "markdown",
      "metadata": {
        "editable": true,
        "tags": [],
        "id": "uU1JihRLgEb_"
      },
      "source": [
        "- Lowest per student (`axis=1`, using built-in `min`):\n"
      ]
    },
    {
      "cell_type": "code",
      "execution_count": null,
      "metadata": {
        "editable": true,
        "output-location": "column-fragment",
        "tags": [],
        "id": "T_GTD0VJgEcA"
      },
      "outputs": [],
      "source": [
        "df.apply(min, axis=1)"
      ]
    },
    {
      "cell_type": "markdown",
      "metadata": {
        "editable": true,
        "tags": [],
        "id": "hvbgSKKAgEcA"
      },
      "source": [
        "## Convert Scores to A-F Ranking"
      ]
    },
    {
      "cell_type": "code",
      "execution_count": null,
      "metadata": {
        "editable": true,
        "output-location": "default",
        "tags": [],
        "id": "5UD_uui8gEcA"
      },
      "outputs": [],
      "source": [
        "def convert_score(x):\n",
        "\tscore = ''\n",
        "\tif x >= 90:\n",
        "\t\tscore = 'A'\n",
        "\telif x >= 80:\n",
        "\t\tscore = 'B'\n",
        "\telif x >= 70:\n",
        "\t\tscore = 'C'\n",
        "\telif x >= 60:\n",
        "\t\tscore = 'D'\n",
        "\telse:\n",
        "\t\tscore = 'F'\n",
        "\treturn score"
      ]
    },
    {
      "cell_type": "markdown",
      "metadata": {
        "editable": true,
        "tags": [],
        "id": "5NIWdK2GgEcA"
      },
      "source": [
        "## Convert Scores to A-F Ranking"
      ]
    },
    {
      "cell_type": "code",
      "execution_count": null,
      "metadata": {
        "editable": true,
        "tags": [],
        "id": "Z_0OQHU0gEcB"
      },
      "outputs": [],
      "source": [
        "df.applymap(convert_score)"
      ]
    },
    {
      "cell_type": "markdown",
      "metadata": {
        "editable": true,
        "tags": [],
        "id": "UnS8Kb9jgEcB"
      },
      "source": [
        "# Combining Data\n",
        "\n",
        "- How do we combine data from multiple sources?"
      ]
    },
    {
      "cell_type": "markdown",
      "metadata": {
        "editable": true,
        "tags": [],
        "id": "vNfom-8tgEcC"
      },
      "source": [
        "## Two Ways\n",
        "\n",
        "- Concatenating: sticking it together\n",
        "- Joining: merging on common \"key\""
      ]
    },
    {
      "cell_type": "markdown",
      "metadata": {
        "editable": true,
        "tags": [],
        "id": "vk_-3Q9egEcC"
      },
      "source": [
        "## We forgot two students!"
      ]
    },
    {
      "cell_type": "code",
      "execution_count": null,
      "metadata": {
        "editable": true,
        "tags": [],
        "id": "qc7CObILgEcC"
      },
      "outputs": [],
      "source": [
        "df_extra = pd.read_csv(data_url+'data/scores_extra.csv',\n",
        "\t\t\t\t\t   index_col='student_id')\n",
        "df_extra"
      ]
    },
    {
      "cell_type": "markdown",
      "metadata": {
        "editable": true,
        "tags": [],
        "id": "cg8qeF4WgEcC"
      },
      "source": [
        "## Concatenation"
      ]
    },
    {
      "cell_type": "code",
      "execution_count": null,
      "metadata": {
        "editable": true,
        "tags": [],
        "id": "NvYup6DngEcC"
      },
      "outputs": [],
      "source": [
        "pd.concat([df, df_extra], axis=0)"
      ]
    },
    {
      "cell_type": "markdown",
      "metadata": {
        "editable": true,
        "tags": [],
        "id": "_fj4gf1VgEcC"
      },
      "source": [
        "## Different Columns\n",
        "\n",
        "- `.reset_index()` moves the index into a column:\n"
      ]
    },
    {
      "cell_type": "code",
      "execution_count": null,
      "metadata": {
        "editable": true,
        "tags": [],
        "id": "56_zXtIKgEcD"
      },
      "outputs": [],
      "source": [
        "df_extra.reset_index()"
      ]
    },
    {
      "cell_type": "markdown",
      "metadata": {
        "editable": true,
        "tags": [],
        "id": "DbpEp0FugEcD"
      },
      "source": [
        "## Different Columns\n",
        "\n",
        "- Concatenating with different columns creates NA values:\n"
      ]
    },
    {
      "cell_type": "code",
      "execution_count": null,
      "metadata": {
        "editable": true,
        "tags": [],
        "id": "ravPRMdQgEcD"
      },
      "outputs": [],
      "source": [
        "pd.concat([df_extra, df_extra.reset_index()])"
      ]
    },
    {
      "cell_type": "markdown",
      "metadata": {
        "editable": true,
        "tags": [],
        "id": "bNLEwfL0gEcD"
      },
      "source": [
        "## Contact Details\n",
        "\n",
        "- We want to match scores to students' first names\n"
      ]
    },
    {
      "cell_type": "code",
      "execution_count": null,
      "metadata": {
        "editable": true,
        "tags": [],
        "id": "u_3pj69igEcE"
      },
      "outputs": [],
      "source": [
        "pd.read_csv(data_url+'data/contacts.csv')"
      ]
    },
    {
      "cell_type": "markdown",
      "metadata": {
        "editable": true,
        "tags": [],
        "id": "OHTOYzL1gEcE"
      },
      "source": [
        "## Preparing data for joining\n",
        "\n",
        "- The two dataframes have one column in common: the student ID.\n",
        "\t- In one it's `StudentID`, in the other `student_id`.\n",
        "- For visual simplicity, I move `student_id` back to the columns\n"
      ]
    },
    {
      "cell_type": "code",
      "execution_count": null,
      "metadata": {
        "editable": true,
        "tags": [],
        "id": "ZyjSKIpEgEcE"
      },
      "outputs": [],
      "source": [
        "df_contact = pd.read_csv(data_url+'data/contacts.csv')\n",
        "df_scores = df.reset_index()"
      ]
    },
    {
      "cell_type": "markdown",
      "metadata": {
        "editable": true,
        "tags": [],
        "id": "2j0ABW-XgEcE"
      },
      "source": [
        "## Key\n",
        "\n",
        "- Note that the two dataframes do not have the exact same values of student ID!\n"
      ]
    },
    {
      "cell_type": "code",
      "execution_count": null,
      "metadata": {
        "editable": true,
        "output-location": "column",
        "tags": [],
        "id": "PA3RWyc_gEcE"
      },
      "outputs": [],
      "source": [
        "df_contact['StudentID']"
      ]
    },
    {
      "cell_type": "code",
      "execution_count": null,
      "metadata": {
        "editable": true,
        "output-location": "column",
        "tags": [],
        "id": "K5z7HDvegEcE"
      },
      "outputs": [],
      "source": [
        "df_scores['student_id']"
      ]
    },
    {
      "cell_type": "markdown",
      "metadata": {
        "editable": true,
        "tags": [],
        "id": "2rrC7nwbgEcF"
      },
      "source": [
        "## Merge Syntax"
      ]
    },
    {
      "cell_type": "code",
      "execution_count": null,
      "metadata": {
        "editable": true,
        "tags": [],
        "id": "XPnnmIAzgEcF"
      },
      "outputs": [],
      "source": [
        "pd.merge(\n",
        "\thow=<inner/left/right/outer>\n",
        "\tleft=df_contact[['FirstName', 'StudentID']],\n",
        "\tright=df_scores[['student_id', 'history']],\n",
        "\tleft_on='StudentID',\n",
        "\tright_on='student_id')"
      ]
    },
    {
      "cell_type": "markdown",
      "metadata": {
        "editable": true,
        "tags": [],
        "id": "osxJM_J_gEcF"
      },
      "source": [
        "- We specify the two dataframes as `left` and `right`\n",
        "- We specify the common key for each dataframe\n",
        "\t- Note if they were the same, we could use the argument `on`\n",
        "- `how` is easiest to explain visually"
      ]
    },
    {
      "cell_type": "markdown",
      "metadata": {
        "editable": true,
        "tags": [],
        "id": "tjk2NlE0gEcF"
      },
      "source": [
        "## `how='inner'`"
      ]
    },
    {
      "cell_type": "code",
      "execution_count": null,
      "metadata": {
        "editable": true,
        "tags": [],
        "id": "ZJRxAPWCgEcF"
      },
      "outputs": [],
      "source": [
        "pd.merge(\n",
        "\thow='inner',\n",
        "\tleft=df_contact[['FirstName', 'StudentID']],\n",
        "\tright=df_scores[['student_id', 'history']],\n",
        "\tleft_on='StudentID',\n",
        "\tright_on='student_id')"
      ]
    },
    {
      "cell_type": "markdown",
      "metadata": {
        "editable": true,
        "tags": [],
        "id": "MbMgpQLmgEcF"
      },
      "source": [
        "## `how='left'`"
      ]
    },
    {
      "cell_type": "code",
      "execution_count": null,
      "metadata": {
        "editable": true,
        "tags": [],
        "id": "nhCZPERkgEcG"
      },
      "outputs": [],
      "source": [
        "pd.merge(\n",
        "\thow='left',\n",
        "\tleft=df_contact[['FirstName', 'StudentID']],\n",
        "\tright=df_scores[['student_id', 'history']],\n",
        "\tleft_on='StudentID',\n",
        "\tright_on='student_id')"
      ]
    },
    {
      "cell_type": "markdown",
      "metadata": {
        "editable": true,
        "tags": [],
        "id": "9gr8_N8VgEcG"
      },
      "source": [
        "## `how='right'`"
      ]
    },
    {
      "cell_type": "code",
      "execution_count": null,
      "metadata": {
        "editable": true,
        "tags": [],
        "id": "STE1-Um2gEcG"
      },
      "outputs": [],
      "source": [
        "pd.merge(\n",
        "\thow='right',\n",
        "\tleft=df_contact[['FirstName', 'StudentID']],\n",
        "\tright=df_scores[['student_id', 'history']],\n",
        "\tleft_on='StudentID',\n",
        "\tright_on='student_id')"
      ]
    },
    {
      "cell_type": "markdown",
      "metadata": {
        "editable": true,
        "tags": [],
        "id": "fURSlM0igEcG"
      },
      "source": [
        "## `how='outer'`"
      ]
    },
    {
      "cell_type": "code",
      "execution_count": null,
      "metadata": {
        "editable": true,
        "tags": [],
        "id": "Iye2l63_gEcG"
      },
      "outputs": [],
      "source": [
        "pd.merge(\n",
        "\thow='outer',\n",
        "\tleft=df_contact[['FirstName', 'StudentID']],\n",
        "\tright=df_scores[['student_id', 'history']],\n",
        "\tleft_on='StudentID',\n",
        "\tright_on='student_id')"
      ]
    },
    {
      "cell_type": "markdown",
      "metadata": {
        "editable": true,
        "tags": [],
        "id": "P3XGqRlRgEcH"
      },
      "source": [
        "# Exploratory Analysis"
      ]
    },
    {
      "cell_type": "markdown",
      "metadata": {
        "editable": true,
        "tags": [],
        "id": "aU1yIYnqgEcH"
      },
      "source": [
        "## British Election Study Data"
      ]
    },
    {
      "cell_type": "code",
      "execution_count": null,
      "metadata": {
        "editable": true,
        "tags": [],
        "id": "fWtqDWHygEcH"
      },
      "outputs": [],
      "source": [
        "bes_df = pd.read_csv(data_url+'data/bes_data.csv')"
      ]
    },
    {
      "cell_type": "markdown",
      "metadata": {
        "editable": true,
        "tags": [],
        "id": "3oqa85KugEcH"
      },
      "source": [
        "## First-Look Functions\n",
        "\n",
        "- When working with data, your first step should always be _getting to know the data_\n",
        "\t- Manually inspect samples of the data.\n",
        "\t- Check dimensions: are they expected?\n",
        "\t- Check data types: are they expected?\n",
        "\t- Tabulate variables: what are the levels?"
      ]
    },
    {
      "cell_type": "markdown",
      "metadata": {
        "editable": true,
        "tags": [],
        "id": "HjtQemXCgEcH"
      },
      "source": [
        "## Inspect first 5 rows"
      ]
    },
    {
      "cell_type": "code",
      "execution_count": null,
      "metadata": {
        "editable": true,
        "tags": [],
        "id": "3_68UP9TgEcH"
      },
      "outputs": [],
      "source": [
        "bes_df.head()"
      ]
    },
    {
      "cell_type": "markdown",
      "metadata": {
        "editable": true,
        "tags": [],
        "id": "TK8hzAlDgEcI"
      },
      "source": [
        "## What are the dimensions of the dataset?\n",
        "\n"
      ]
    },
    {
      "cell_type": "code",
      "execution_count": null,
      "metadata": {
        "editable": true,
        "tags": [],
        "id": "ISSBnTNCgEcI"
      },
      "outputs": [],
      "source": [
        "bes_df.shape"
      ]
    },
    {
      "cell_type": "markdown",
      "metadata": {
        "editable": true,
        "tags": [],
        "id": "F6blAaZHgEcI"
      },
      "source": [
        "## What data types are each of the columns?\n",
        "\n"
      ]
    },
    {
      "cell_type": "code",
      "execution_count": null,
      "metadata": {
        "editable": true,
        "tags": [],
        "id": "VSfOnKXZgEcI"
      },
      "outputs": [],
      "source": [
        "bes_df.info()"
      ]
    },
    {
      "cell_type": "markdown",
      "metadata": {
        "editable": true,
        "tags": [],
        "id": "AUu6vsBygEcI"
      },
      "source": [
        "## What unique values do each column contain?\n",
        "\n",
        "- `pd.Series.value_counts()` for tabulation\n",
        "\n"
      ]
    },
    {
      "cell_type": "code",
      "execution_count": null,
      "metadata": {
        "editable": true,
        "output-location": "column-fragment",
        "tags": [],
        "id": "Z_LhyoAsgEcJ"
      },
      "outputs": [],
      "source": [
        "bes_df['female'].value_counts()"
      ]
    },
    {
      "cell_type": "code",
      "execution_count": null,
      "metadata": {
        "editable": true,
        "output-location": "column-fragment",
        "tags": [],
        "id": "Fdv_CG-jgEcJ"
      },
      "outputs": [],
      "source": [
        "bes_df['region'].value_counts()"
      ]
    },
    {
      "cell_type": "markdown",
      "metadata": {
        "editable": true,
        "tags": [],
        "id": "CDwq42zjgEcJ"
      },
      "source": [
        "# Recap"
      ]
    },
    {
      "cell_type": "markdown",
      "metadata": {
        "editable": true,
        "tags": [],
        "id": "Z5LtBlnxgEcJ"
      },
      "source": [
        "## `pandas`\n",
        "\n",
        "- File I/O (reading/writing data formats)\n",
        "- Indexing, slicing, filtering\n",
        "- Operations on data\n",
        "- Combining/merging data\n",
        "- Exploratory look"
      ]
    },
    {
      "cell_type": "markdown",
      "metadata": {
        "editable": true,
        "tags": [],
        "id": "VA_6uUtigEcJ"
      },
      "source": [
        "# Additional Resources"
      ]
    },
    {
      "cell_type": "markdown",
      "metadata": {
        "editable": true,
        "tags": [],
        "id": "3CtqnGbugEcK"
      },
      "source": [
        "## Textbook\n",
        "\n",
        "The following sections of _Python for Data Analysis: Data Wrangling with Pandas, NumPy and IPython, 2nd edition_ are relevant to this lecture:\n",
        "\n",
        "- 5.*: Getting Started with pandas\n",
        "- 6.*: Data Loading, Storage and File Formats\n",
        "- 7.1-2: Data Cleaning and Preparation\n",
        "- 7.3: String Manipulation\n",
        "- 12.1: Categorical Data"
      ]
    },
    {
      "cell_type": "markdown",
      "metadata": {
        "editable": true,
        "tags": [],
        "id": "rp0X-nz3gEcK"
      },
      "source": [
        "## Blogs, Docs\n",
        "\n",
        "- [`pandas` guide to combining dataframes](https://pandas.pydata.org/docs/user_guide/merging.html)\n",
        "- Pandas Data: https://pbpython.com/pandas_dtypes.html"
      ]
    }
  ],
  "metadata": {
    "kernelspec": {
      "display_name": "Python 3 (ipykernel)",
      "language": "python",
      "name": "python3"
    },
    "language_info": {
      "codemirror_mode": {
        "name": "ipython",
        "version": 3
      },
      "file_extension": ".py",
      "mimetype": "text/x-python",
      "name": "python",
      "nbconvert_exporter": "python",
      "pygments_lexer": "ipython3",
      "version": "3.11.4"
    },
    "colab": {
      "provenance": []
    }
  },
  "nbformat": 4,
  "nbformat_minor": 0
}